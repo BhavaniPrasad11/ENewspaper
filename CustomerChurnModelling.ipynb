{
  "metadata": {
    "kernelspec": {
      "language": "python",
      "display_name": "Python 3",
      "name": "python3"
    },
    "language_info": {
      "pygments_lexer": "ipython3",
      "nbconvert_exporter": "python",
      "version": "3.6.4",
      "file_extension": ".py",
      "codemirror_mode": {
        "name": "ipython",
        "version": 3
      },
      "name": "python",
      "mimetype": "text/x-python"
    },
    "colab": {
      "name": "CustomerChurnModelling",
      "provenance": []
    }
  },
  "nbformat_minor": 0,
  "nbformat": 4,
  "cells": [
    {
      "source": [
        "\n",
        "# IMPORTANT: RUN THIS CELL IN ORDER TO IMPORT YOUR KAGGLE DATA SOURCES\n",
        "# TO THE CORRECT LOCATION (/kaggle/input) IN YOUR NOTEBOOK,\n",
        "# THEN FEEL FREE TO DELETE THIS CELL.\n",
        "# NOTE: THIS NOTEBOOK ENVIRONMENT DIFFERS FROM KAGGLE'S PYTHON\n",
        "# ENVIRONMENT SO THERE MAY BE MISSING LIBRARIES USED BY YOUR\n",
        "# NOTEBOOK.\n",
        "\n",
        "import os\n",
        "import sys\n",
        "from tempfile import NamedTemporaryFile\n",
        "from urllib.request import urlopen\n",
        "from urllib.parse import unquote, urlparse\n",
        "from urllib.error import HTTPError\n",
        "from zipfile import ZipFile\n",
        "import tarfile\n",
        "import shutil\n",
        "\n",
        "CHUNK_SIZE = 40960\n",
        "DATA_SOURCE_MAPPING = 'churn-modelling:https%3A%2F%2Fstorage.googleapis.com%2Fkaggle-data-sets%2F156197%2F358170%2Fbundle%2Farchive.zip%3FX-Goog-Algorithm%3DGOOG4-RSA-SHA256%26X-Goog-Credential%3Dgcp-kaggle-com%2540kaggle-161607.iam.gserviceaccount.com%252F20240224%252Fauto%252Fstorage%252Fgoog4_request%26X-Goog-Date%3D20240224T020717Z%26X-Goog-Expires%3D259200%26X-Goog-SignedHeaders%3Dhost%26X-Goog-Signature%3D37587987fddb7ab7c6f54f75da906bc2f1f56eb92099a42b8cfb7634310e4b90303b3e51ce0d8860104d59f94188252f66456e4721fa98f4dcda120f1fe95937d330893b3938003e609fd85af767b4686eddf45628eb4cac4362917ca28f3e73fb15e07afb15f31e9954e0543641228ee61b55ff8aafb0fd61a4cbb0c545dbbcfd1e028e20a9b6b6013f453b31c0ae115624edf98c5567ab1effb61ee7cf648a2088ad9c5d6b9eaa1e7473459b77eae413cc5de3e1ec9a4642011b4b1ea49b4b7926156e959c41e9713d04610e8445f358b54b866fc6fed5faf26b6755e2ff87a8507609f9d0b494237309a025719a7946e0d5ec20c52adad21716040f252bc6'\n",
        "\n",
        "KAGGLE_INPUT_PATH='/kaggle/input'\n",
        "KAGGLE_WORKING_PATH='/kaggle/working'\n",
        "KAGGLE_SYMLINK='kaggle'\n",
        "\n",
        "!umount /kaggle/input/ 2> /dev/null\n",
        "shutil.rmtree('/kaggle/input', ignore_errors=True)\n",
        "os.makedirs(KAGGLE_INPUT_PATH, 0o777, exist_ok=True)\n",
        "os.makedirs(KAGGLE_WORKING_PATH, 0o777, exist_ok=True)\n",
        "\n",
        "try:\n",
        "  os.symlink(KAGGLE_INPUT_PATH, os.path.join(\"..\", 'input'), target_is_directory=True)\n",
        "except FileExistsError:\n",
        "  pass\n",
        "try:\n",
        "  os.symlink(KAGGLE_WORKING_PATH, os.path.join(\"..\", 'working'), target_is_directory=True)\n",
        "except FileExistsError:\n",
        "  pass\n",
        "\n",
        "for data_source_mapping in DATA_SOURCE_MAPPING.split(','):\n",
        "    directory, download_url_encoded = data_source_mapping.split(':')\n",
        "    download_url = unquote(download_url_encoded)\n",
        "    filename = urlparse(download_url).path\n",
        "    destination_path = os.path.join(KAGGLE_INPUT_PATH, directory)\n",
        "    try:\n",
        "        with urlopen(download_url) as fileres, NamedTemporaryFile() as tfile:\n",
        "            total_length = fileres.headers['content-length']\n",
        "            print(f'Downloading {directory}, {total_length} bytes compressed')\n",
        "            dl = 0\n",
        "            data = fileres.read(CHUNK_SIZE)\n",
        "            while len(data) > 0:\n",
        "                dl += len(data)\n",
        "                tfile.write(data)\n",
        "                done = int(50 * dl / int(total_length))\n",
        "                sys.stdout.write(f\"\\r[{'=' * done}{' ' * (50-done)}] {dl} bytes downloaded\")\n",
        "                sys.stdout.flush()\n",
        "                data = fileres.read(CHUNK_SIZE)\n",
        "            if filename.endswith('.zip'):\n",
        "              with ZipFile(tfile) as zfile:\n",
        "                zfile.extractall(destination_path)\n",
        "            else:\n",
        "              with tarfile.open(tfile.name) as tarfile:\n",
        "                tarfile.extractall(destination_path)\n",
        "            print(f'\\nDownloaded and uncompressed: {directory}')\n",
        "    except HTTPError as e:\n",
        "        print(f'Failed to load (likely expired) {download_url} to path {destination_path}')\n",
        "        continue\n",
        "    except OSError as e:\n",
        "        print(f'Failed to load {download_url} to path {destination_path}')\n",
        "        continue\n",
        "\n",
        "print('Data source import complete.')\n"
      ],
      "metadata": {
        "id": "HkMhLpFg3eow"
      },
      "cell_type": "code",
      "outputs": [],
      "execution_count": null
    },
    {
      "cell_type": "code",
      "source": [
        "import numpy as np\n",
        "import pandas as pd\n",
        "import matplotlib.pyplot as plt"
      ],
      "metadata": {
        "execution": {
          "iopub.status.busy": "2023-10-01T11:35:47.229739Z",
          "iopub.execute_input": "2023-10-01T11:35:47.231002Z",
          "iopub.status.idle": "2023-10-01T11:35:47.695029Z",
          "shell.execute_reply.started": "2023-10-01T11:35:47.23095Z",
          "shell.execute_reply": "2023-10-01T11:35:47.694136Z"
        },
        "trusted": true,
        "id": "tDE25fqu3eo0"
      },
      "execution_count": null,
      "outputs": []
    },
    {
      "cell_type": "code",
      "source": [
        "df = pd.read_csv('/kaggle/input/churn-modelling/Churn_Modelling.csv')\n",
        "df.head()"
      ],
      "metadata": {
        "execution": {
          "iopub.status.busy": "2023-10-01T11:35:47.697408Z",
          "iopub.execute_input": "2023-10-01T11:35:47.698136Z",
          "iopub.status.idle": "2023-10-01T11:35:47.779513Z",
          "shell.execute_reply.started": "2023-10-01T11:35:47.698084Z",
          "shell.execute_reply": "2023-10-01T11:35:47.778196Z"
        },
        "trusted": true,
        "id": "Ui1fMvfG3eo1"
      },
      "execution_count": null,
      "outputs": []
    },
    {
      "cell_type": "code",
      "source": [
        "#Drop the columns which is not effective in knowing whether a customer will leave or not based upon domain understanding\n",
        "\n",
        "df1 = df.drop(['RowNumber','CustomerId','Surname'] , axis='columns')\n",
        "df1.head()"
      ],
      "metadata": {
        "execution": {
          "iopub.status.busy": "2023-10-01T11:35:47.781024Z",
          "iopub.execute_input": "2023-10-01T11:35:47.781391Z",
          "iopub.status.idle": "2023-10-01T11:35:47.811746Z",
          "shell.execute_reply.started": "2023-10-01T11:35:47.781361Z",
          "shell.execute_reply": "2023-10-01T11:35:47.810219Z"
        },
        "trusted": true,
        "id": "uZgV-7ih3eo1"
      },
      "execution_count": null,
      "outputs": []
    },
    {
      "cell_type": "code",
      "source": [
        "df1.columns"
      ],
      "metadata": {
        "execution": {
          "iopub.status.busy": "2023-10-01T11:35:47.814319Z",
          "iopub.execute_input": "2023-10-01T11:35:47.814648Z",
          "iopub.status.idle": "2023-10-01T11:35:47.832999Z",
          "shell.execute_reply.started": "2023-10-01T11:35:47.814619Z",
          "shell.execute_reply": "2023-10-01T11:35:47.832167Z"
        },
        "trusted": true,
        "id": "5JafxYFf3eo1"
      },
      "execution_count": null,
      "outputs": []
    },
    {
      "cell_type": "markdown",
      "source": [
        "**EDA**"
      ],
      "metadata": {
        "id": "R9wiaI2m3eo1"
      }
    },
    {
      "cell_type": "code",
      "source": [
        "import seaborn as sns"
      ],
      "metadata": {
        "execution": {
          "iopub.status.busy": "2023-10-01T11:35:47.835451Z",
          "iopub.execute_input": "2023-10-01T11:35:47.836476Z",
          "iopub.status.idle": "2023-10-01T11:35:49.754046Z",
          "shell.execute_reply.started": "2023-10-01T11:35:47.836424Z",
          "shell.execute_reply": "2023-10-01T11:35:49.752915Z"
        },
        "trusted": true,
        "id": "TkdfLYgo3eo2"
      },
      "execution_count": null,
      "outputs": []
    },
    {
      "cell_type": "code",
      "source": [
        "d1 = df1[['CreditScore','Age','Balance','EstimatedSalary','Exited']]\n",
        "\n",
        "sns.pairplot(d1 , hue = 'Exited')"
      ],
      "metadata": {
        "execution": {
          "iopub.status.busy": "2023-10-01T11:35:49.755511Z",
          "iopub.execute_input": "2023-10-01T11:35:49.756787Z",
          "iopub.status.idle": "2023-10-01T11:36:06.410931Z",
          "shell.execute_reply.started": "2023-10-01T11:35:49.756739Z",
          "shell.execute_reply": "2023-10-01T11:36:06.409739Z"
        },
        "trusted": true,
        "id": "yK49A3R33eo3"
      },
      "execution_count": null,
      "outputs": []
    },
    {
      "cell_type": "code",
      "source": [
        "df1['Gender'].value_counts()"
      ],
      "metadata": {
        "execution": {
          "iopub.status.busy": "2023-10-01T11:36:06.412713Z",
          "iopub.execute_input": "2023-10-01T11:36:06.413007Z",
          "iopub.status.idle": "2023-10-01T11:36:06.429516Z",
          "shell.execute_reply.started": "2023-10-01T11:36:06.412984Z",
          "shell.execute_reply": "2023-10-01T11:36:06.427781Z"
        },
        "trusted": true,
        "id": "iZnULuWI3eo3"
      },
      "execution_count": null,
      "outputs": []
    },
    {
      "cell_type": "code",
      "source": [
        "df1.groupby('Gender')['Exited'].value_counts().unstack()"
      ],
      "metadata": {
        "execution": {
          "iopub.status.busy": "2023-10-01T11:36:06.430814Z",
          "iopub.execute_input": "2023-10-01T11:36:06.431207Z",
          "iopub.status.idle": "2023-10-01T11:36:06.462978Z",
          "shell.execute_reply.started": "2023-10-01T11:36:06.431084Z",
          "shell.execute_reply": "2023-10-01T11:36:06.461807Z"
        },
        "trusted": true,
        "id": "fX0-HO4X3eo3"
      },
      "execution_count": null,
      "outputs": []
    },
    {
      "cell_type": "code",
      "source": [
        "df1.groupby('Gender')['Exited'].value_counts().unstack().plot.bar()"
      ],
      "metadata": {
        "execution": {
          "iopub.status.busy": "2023-10-01T11:36:06.464482Z",
          "iopub.execute_input": "2023-10-01T11:36:06.465413Z",
          "iopub.status.idle": "2023-10-01T11:36:06.747843Z",
          "shell.execute_reply.started": "2023-10-01T11:36:06.465372Z",
          "shell.execute_reply": "2023-10-01T11:36:06.746597Z"
        },
        "trusted": true,
        "id": "8L0vShWm3eo4"
      },
      "execution_count": null,
      "outputs": []
    },
    {
      "cell_type": "code",
      "source": [
        "exit_count = df1['Exited'].value_counts()\n",
        "\n",
        "plt.pie(exit_count, autopct = \"%1.1f%%\",explode=[0,0.1],labels = exit_count.index)\n",
        "plt.title(\"Customer Exit Distribution\")\n",
        "plt.show()"
      ],
      "metadata": {
        "execution": {
          "iopub.status.busy": "2023-10-01T11:39:08.203514Z",
          "iopub.execute_input": "2023-10-01T11:39:08.206616Z",
          "iopub.status.idle": "2023-10-01T11:39:08.350514Z",
          "shell.execute_reply.started": "2023-10-01T11:39:08.206548Z",
          "shell.execute_reply": "2023-10-01T11:39:08.348674Z"
        },
        "trusted": true,
        "id": "uKYbotYc3eo4"
      },
      "execution_count": null,
      "outputs": []
    },
    {
      "cell_type": "code",
      "source": [
        "df1['Geography'].value_counts()"
      ],
      "metadata": {
        "execution": {
          "iopub.status.busy": "2023-10-01T11:39:57.954681Z",
          "iopub.execute_input": "2023-10-01T11:39:57.955057Z",
          "iopub.status.idle": "2023-10-01T11:39:57.966517Z",
          "shell.execute_reply.started": "2023-10-01T11:39:57.955028Z",
          "shell.execute_reply": "2023-10-01T11:39:57.96512Z"
        },
        "trusted": true,
        "id": "NJPzxXL13eo4"
      },
      "execution_count": null,
      "outputs": []
    },
    {
      "cell_type": "code",
      "source": [
        "geo_exit = df1.groupby('Geography')['Exited'].value_counts().unstack()\n",
        "geo_exit"
      ],
      "metadata": {
        "execution": {
          "iopub.status.busy": "2023-10-01T11:50:11.921028Z",
          "iopub.execute_input": "2023-10-01T11:50:11.921529Z",
          "iopub.status.idle": "2023-10-01T11:50:11.937875Z",
          "shell.execute_reply.started": "2023-10-01T11:50:11.921489Z",
          "shell.execute_reply": "2023-10-01T11:50:11.936295Z"
        },
        "trusted": true,
        "id": "xGURPHGT3eo4"
      },
      "execution_count": null,
      "outputs": []
    },
    {
      "cell_type": "code",
      "source": [
        "geo_exit.plot.bar()"
      ],
      "metadata": {
        "execution": {
          "iopub.status.busy": "2023-10-01T11:53:36.385057Z",
          "iopub.execute_input": "2023-10-01T11:53:36.385545Z",
          "iopub.status.idle": "2023-10-01T11:53:36.659925Z",
          "shell.execute_reply.started": "2023-10-01T11:53:36.385514Z",
          "shell.execute_reply": "2023-10-01T11:53:36.659024Z"
        },
        "trusted": true,
        "id": "WdXv7INE3eo4"
      },
      "execution_count": null,
      "outputs": []
    },
    {
      "cell_type": "code",
      "source": [
        "ax = sns.countplot(x = 'Geography' , data = df1 , hue = 'Exited')\n",
        "for value in ax.patches:\n",
        "    percentage = ((value.get_height()/len(df))*100)\n",
        "    x = value.get_x() + value.get_width()/2 - 0.05\n",
        "    y = value.get_y() + value.get_height() + 50\n",
        "    ax.annotate(f\"{round(percentage,2)} %\" , (x,y))\n",
        "\n",
        "plt.show()"
      ],
      "metadata": {
        "execution": {
          "iopub.status.busy": "2023-10-01T12:02:43.023379Z",
          "iopub.execute_input": "2023-10-01T12:02:43.023782Z",
          "iopub.status.idle": "2023-10-01T12:02:43.302126Z",
          "shell.execute_reply.started": "2023-10-01T12:02:43.023754Z",
          "shell.execute_reply": "2023-10-01T12:02:43.300824Z"
        },
        "trusted": true,
        "id": "ES8Pf42n3eo4"
      },
      "execution_count": null,
      "outputs": []
    },
    {
      "cell_type": "code",
      "source": [
        "#Custmer churn by HasCard\n",
        "\n",
        "ax = sns.countplot(x = 'HasCrCard' , data = df1 , hue = 'Exited')\n",
        "for value in ax.patches:\n",
        "    percentage = ((value.get_height()/len(df))*100)\n",
        "    x = value.get_x() + value.get_width()/2 - 0.05\n",
        "    y = value.get_y() + value.get_height() + 50\n",
        "    ax.annotate(f\"{percentage} %\" , (x,y))\n",
        "\n",
        "plt.show()"
      ],
      "metadata": {
        "execution": {
          "iopub.status.busy": "2023-10-01T12:02:54.553901Z",
          "iopub.execute_input": "2023-10-01T12:02:54.554746Z",
          "iopub.status.idle": "2023-10-01T12:02:54.796558Z",
          "shell.execute_reply.started": "2023-10-01T12:02:54.554712Z",
          "shell.execute_reply": "2023-10-01T12:02:54.795252Z"
        },
        "trusted": true,
        "id": "SuwP5sJt3eo4"
      },
      "execution_count": null,
      "outputs": []
    },
    {
      "cell_type": "code",
      "source": [
        "#Custmer churn by Number of Products\n",
        "\n",
        "ax = sns.countplot(x = 'NumOfProducts' , data = df1 , hue = 'Exited')\n",
        "for value in ax.patches:\n",
        "    percentage = ((value.get_height()/len(df))*100)\n",
        "    x = value.get_x() + value.get_width()/2 - 0.05\n",
        "    y = value.get_y() + value.get_height() + 50\n",
        "    ax.annotate(f\"{round(percentage,2)} %\" , (x,y))\n",
        "\n",
        "plt.show()"
      ],
      "metadata": {
        "execution": {
          "iopub.status.busy": "2023-10-01T12:04:03.054919Z",
          "iopub.execute_input": "2023-10-01T12:04:03.055781Z",
          "iopub.status.idle": "2023-10-01T12:04:03.340991Z",
          "shell.execute_reply.started": "2023-10-01T12:04:03.055745Z",
          "shell.execute_reply": "2023-10-01T12:04:03.339744Z"
        },
        "trusted": true,
        "id": "LJGDwAJB3eo5"
      },
      "execution_count": null,
      "outputs": []
    },
    {
      "cell_type": "code",
      "source": [
        "#Custmer churn by IsActivemember\n",
        "\n",
        "ax = sns.countplot(x = 'IsActiveMember' , data = df1 , hue = 'Exited')\n",
        "for value in ax.patches:\n",
        "    percentage = ((value.get_height()/len(df))*100)\n",
        "    x = value.get_x() + value.get_width()/2 - 0.05\n",
        "    y = value.get_y() + value.get_height() + 50\n",
        "    ax.annotate(f\"{round(percentage,2)} %\" , (x,y))\n",
        "\n",
        "plt.show()"
      ],
      "metadata": {
        "execution": {
          "iopub.status.busy": "2023-10-01T12:05:00.877258Z",
          "iopub.execute_input": "2023-10-01T12:05:00.877741Z",
          "iopub.status.idle": "2023-10-01T12:05:01.111921Z",
          "shell.execute_reply.started": "2023-10-01T12:05:00.877708Z",
          "shell.execute_reply": "2023-10-01T12:05:01.110639Z"
        },
        "trusted": true,
        "id": "5CWoqU_13eo5"
      },
      "execution_count": null,
      "outputs": []
    },
    {
      "cell_type": "code",
      "source": [
        "#Custmer churn by IsActivemember\n",
        "\n",
        "plt.figure(figsize=(10,6))\n",
        "ax = sns.countplot(x = 'Tenure' , data = df1 , hue = 'Exited')\n",
        "for value in ax.patches:\n",
        "    percentage = ((value.get_height()/len(df))*100)\n",
        "    x = value.get_x() + value.get_width()/2 - 0.05\n",
        "    y = value.get_y() + value.get_height() + 20\n",
        "    ax.annotate(f\"{round(percentage,1)} %\" , (x,y) , rotation=90)\n",
        "\n",
        "plt.show()"
      ],
      "metadata": {
        "execution": {
          "iopub.status.busy": "2023-10-01T12:07:31.068162Z",
          "iopub.execute_input": "2023-10-01T12:07:31.06881Z",
          "iopub.status.idle": "2023-10-01T12:07:31.446141Z",
          "shell.execute_reply.started": "2023-10-01T12:07:31.068777Z",
          "shell.execute_reply": "2023-10-01T12:07:31.44491Z"
        },
        "trusted": true,
        "id": "3VwH7bMU3eo5"
      },
      "execution_count": null,
      "outputs": []
    },
    {
      "cell_type": "code",
      "source": [
        "#Salary & Exit\n",
        "sns.histplot(x='EstimatedSalary' , data = df1 , hue = 'Exited')\n",
        "plt.show()"
      ],
      "metadata": {
        "execution": {
          "iopub.status.busy": "2023-10-01T12:09:47.624301Z",
          "iopub.execute_input": "2023-10-01T12:09:47.62472Z",
          "iopub.status.idle": "2023-10-01T12:09:48.01431Z",
          "shell.execute_reply.started": "2023-10-01T12:09:47.624691Z",
          "shell.execute_reply": "2023-10-01T12:09:48.013186Z"
        },
        "trusted": true,
        "id": "TS-UUWfp3eo5"
      },
      "execution_count": null,
      "outputs": []
    },
    {
      "cell_type": "code",
      "source": [
        "df1.head()"
      ],
      "metadata": {
        "execution": {
          "iopub.status.busy": "2023-10-01T12:10:28.736251Z",
          "iopub.execute_input": "2023-10-01T12:10:28.737665Z",
          "iopub.status.idle": "2023-10-01T12:10:28.753391Z",
          "shell.execute_reply.started": "2023-10-01T12:10:28.737611Z",
          "shell.execute_reply": "2023-10-01T12:10:28.752149Z"
        },
        "trusted": true,
        "id": "QQhj2BLR3eo5"
      },
      "execution_count": null,
      "outputs": []
    },
    {
      "cell_type": "code",
      "source": [
        "sns.histplot(x='CreditScore' , data = df1 , hue = 'Exited')\n",
        "plt.show()"
      ],
      "metadata": {
        "execution": {
          "iopub.status.busy": "2023-10-01T12:10:43.739689Z",
          "iopub.execute_input": "2023-10-01T12:10:43.740166Z",
          "iopub.status.idle": "2023-10-01T12:10:44.191571Z",
          "shell.execute_reply.started": "2023-10-01T12:10:43.740132Z",
          "shell.execute_reply": "2023-10-01T12:10:44.190352Z"
        },
        "trusted": true,
        "id": "UhDj9_4e3eo5"
      },
      "execution_count": null,
      "outputs": []
    },
    {
      "cell_type": "code",
      "source": [
        "for idx,group in df1.groupby('Exited')['CreditScore']:\n",
        "    #print(sns.boxplot(group['CreditScore']))\n",
        "    plt.subplot(1,2,idx+1)\n",
        "    plt.title(\"Credit Score\")\n",
        "    plt.boxplot(group)\n",
        "    plt.xlabel(idx)\n",
        "    plt.tight_layout()\n",
        "plt.show()"
      ],
      "metadata": {
        "execution": {
          "iopub.status.busy": "2023-10-01T12:22:02.315578Z",
          "iopub.execute_input": "2023-10-01T12:22:02.316012Z",
          "iopub.status.idle": "2023-10-01T12:22:02.719129Z",
          "shell.execute_reply.started": "2023-10-01T12:22:02.315981Z",
          "shell.execute_reply": "2023-10-01T12:22:02.718019Z"
        },
        "trusted": true,
        "id": "QEcOtKQh3eo5"
      },
      "execution_count": null,
      "outputs": []
    },
    {
      "cell_type": "code",
      "source": [
        "sns.histplot(x='Age' , data = df1 , hue = 'Exited')\n",
        "plt.show()"
      ],
      "metadata": {
        "execution": {
          "iopub.status.busy": "2023-10-01T12:23:25.409584Z",
          "iopub.execute_input": "2023-10-01T12:23:25.40995Z",
          "iopub.status.idle": "2023-10-01T12:23:25.91878Z",
          "shell.execute_reply.started": "2023-10-01T12:23:25.409921Z",
          "shell.execute_reply": "2023-10-01T12:23:25.91761Z"
        },
        "trusted": true,
        "id": "97jlHy2X3eo5"
      },
      "execution_count": null,
      "outputs": []
    },
    {
      "cell_type": "code",
      "source": [
        "for idx,group in df1.groupby('Exited')['Age']:\n",
        "    #print(sns.boxplot(group['CreditScore']))\n",
        "    plt.subplot(1,2,idx+1)\n",
        "    plt.title(\"Age\")\n",
        "    plt.boxplot(group)\n",
        "    plt.xlabel(idx)\n",
        "    plt.tight_layout()\n",
        "plt.show()"
      ],
      "metadata": {
        "execution": {
          "iopub.status.busy": "2023-10-01T12:23:51.246581Z",
          "iopub.execute_input": "2023-10-01T12:23:51.246982Z",
          "iopub.status.idle": "2023-10-01T12:23:51.701664Z",
          "shell.execute_reply.started": "2023-10-01T12:23:51.246955Z",
          "shell.execute_reply": "2023-10-01T12:23:51.700499Z"
        },
        "trusted": true,
        "id": "w5cc8ff_3eo7"
      },
      "execution_count": null,
      "outputs": []
    },
    {
      "cell_type": "code",
      "source": [
        "sns.histplot(x='Balance' , data = df1 , hue = 'Exited')\n",
        "plt.show()"
      ],
      "metadata": {
        "execution": {
          "iopub.status.busy": "2023-10-01T12:24:49.562608Z",
          "iopub.execute_input": "2023-10-01T12:24:49.563722Z",
          "iopub.status.idle": "2023-10-01T12:24:49.925036Z",
          "shell.execute_reply.started": "2023-10-01T12:24:49.563683Z",
          "shell.execute_reply": "2023-10-01T12:24:49.924071Z"
        },
        "trusted": true,
        "id": "zovDunfG3eo7"
      },
      "execution_count": null,
      "outputs": []
    },
    {
      "cell_type": "code",
      "source": [
        "for idx,group in df1.groupby('Exited')['Balance']:\n",
        "    #print(sns.boxplot(group['CreditScore']))\n",
        "    plt.subplot(1,2,idx+1)\n",
        "    plt.title(\"Balance\")\n",
        "    plt.boxplot(group)\n",
        "    plt.xlabel(idx)\n",
        "    plt.tight_layout()\n",
        "plt.show()"
      ],
      "metadata": {
        "execution": {
          "iopub.status.busy": "2023-10-01T12:25:09.779373Z",
          "iopub.execute_input": "2023-10-01T12:25:09.779801Z",
          "iopub.status.idle": "2023-10-01T12:25:10.193307Z",
          "shell.execute_reply.started": "2023-10-01T12:25:09.77977Z",
          "shell.execute_reply": "2023-10-01T12:25:10.191846Z"
        },
        "trusted": true,
        "id": "t4L2uPvK3eo7"
      },
      "execution_count": null,
      "outputs": []
    },
    {
      "cell_type": "markdown",
      "source": [
        "**Model Building**"
      ],
      "metadata": {
        "id": "ot_XuMnN3eo7"
      }
    },
    {
      "cell_type": "code",
      "source": [
        "df1.isnull().sum()"
      ],
      "metadata": {
        "execution": {
          "iopub.status.busy": "2023-10-01T12:25:49.353405Z",
          "iopub.execute_input": "2023-10-01T12:25:49.353812Z",
          "iopub.status.idle": "2023-10-01T12:25:49.364867Z",
          "shell.execute_reply.started": "2023-10-01T12:25:49.353782Z",
          "shell.execute_reply": "2023-10-01T12:25:49.363512Z"
        },
        "trusted": true,
        "id": "vuUPDoHb3eo7"
      },
      "execution_count": null,
      "outputs": []
    },
    {
      "cell_type": "code",
      "source": [
        "df1.dtypes"
      ],
      "metadata": {
        "execution": {
          "iopub.status.busy": "2023-10-01T12:25:49.731547Z",
          "iopub.execute_input": "2023-10-01T12:25:49.731971Z",
          "iopub.status.idle": "2023-10-01T12:25:49.740931Z",
          "shell.execute_reply.started": "2023-10-01T12:25:49.731939Z",
          "shell.execute_reply": "2023-10-01T12:25:49.740111Z"
        },
        "trusted": true,
        "id": "FJXfy3Zk3eo8"
      },
      "execution_count": null,
      "outputs": []
    },
    {
      "cell_type": "markdown",
      "source": [
        "**One Hot Encoding for Non-Numerical Data Columns**"
      ],
      "metadata": {
        "id": "QgEKubZZ3eo8"
      }
    },
    {
      "cell_type": "code",
      "source": [
        "df2 = pd.get_dummies(df1)\n",
        "df2.head()"
      ],
      "metadata": {
        "execution": {
          "iopub.status.busy": "2023-10-01T12:25:50.908748Z",
          "iopub.execute_input": "2023-10-01T12:25:50.909206Z",
          "iopub.status.idle": "2023-10-01T12:25:50.935049Z",
          "shell.execute_reply.started": "2023-10-01T12:25:50.909175Z",
          "shell.execute_reply": "2023-10-01T12:25:50.933935Z"
        },
        "trusted": true,
        "id": "b9n8UXv03eo8"
      },
      "execution_count": null,
      "outputs": []
    },
    {
      "cell_type": "markdown",
      "source": [
        "**Generate Features and Lables**"
      ],
      "metadata": {
        "id": "xBnGB2N83eo8"
      }
    },
    {
      "cell_type": "code",
      "source": [
        "X = df2.drop('Exited', axis = 'columns')\n",
        "Y = df2['Exited']"
      ],
      "metadata": {
        "execution": {
          "iopub.status.busy": "2023-10-01T12:25:51.778778Z",
          "iopub.execute_input": "2023-10-01T12:25:51.779836Z",
          "iopub.status.idle": "2023-10-01T12:25:51.786181Z",
          "shell.execute_reply.started": "2023-10-01T12:25:51.779803Z",
          "shell.execute_reply": "2023-10-01T12:25:51.785153Z"
        },
        "trusted": true,
        "id": "cm5WHRcd3eo8"
      },
      "execution_count": null,
      "outputs": []
    },
    {
      "cell_type": "markdown",
      "source": [
        "**Over Sampling As Data is Unbalanced - Category 1 has only 20% of total data distribution**"
      ],
      "metadata": {
        "id": "Rj2DkvDh3eo8"
      }
    },
    {
      "cell_type": "code",
      "source": [
        "from imblearn.over_sampling import RandomOverSampler\n",
        "ros = RandomOverSampler()\n",
        "\n",
        "Xr,Yr = ros.fit_resample(X,Y)"
      ],
      "metadata": {
        "execution": {
          "iopub.status.busy": "2023-10-01T12:46:32.352467Z",
          "iopub.execute_input": "2023-10-01T12:46:32.352896Z",
          "iopub.status.idle": "2023-10-01T12:46:32.38139Z",
          "shell.execute_reply.started": "2023-10-01T12:46:32.352867Z",
          "shell.execute_reply": "2023-10-01T12:46:32.380378Z"
        },
        "trusted": true,
        "id": "AxBBqtPO3eo8"
      },
      "execution_count": null,
      "outputs": []
    },
    {
      "cell_type": "code",
      "source": [
        "Yr.value_counts()"
      ],
      "metadata": {
        "execution": {
          "iopub.status.busy": "2023-10-01T12:46:48.376484Z",
          "iopub.execute_input": "2023-10-01T12:46:48.376983Z",
          "iopub.status.idle": "2023-10-01T12:46:48.390168Z",
          "shell.execute_reply.started": "2023-10-01T12:46:48.376943Z",
          "shell.execute_reply": "2023-10-01T12:46:48.388623Z"
        },
        "trusted": true,
        "id": "Ime1xKEo3eo8"
      },
      "execution_count": null,
      "outputs": []
    },
    {
      "cell_type": "markdown",
      "source": [
        "**Import Required Libraries**"
      ],
      "metadata": {
        "id": "OAdAkvjR3eo9"
      }
    },
    {
      "cell_type": "code",
      "source": [
        "from sklearn.model_selection import train_test_split\n",
        "from sklearn.linear_model import LogisticRegression"
      ],
      "metadata": {
        "execution": {
          "iopub.status.busy": "2023-10-01T12:47:00.881937Z",
          "iopub.execute_input": "2023-10-01T12:47:00.883206Z",
          "iopub.status.idle": "2023-10-01T12:47:00.887414Z",
          "shell.execute_reply.started": "2023-10-01T12:47:00.883171Z",
          "shell.execute_reply": "2023-10-01T12:47:00.886421Z"
        },
        "trusted": true,
        "id": "EdcZiDUu3epA"
      },
      "execution_count": null,
      "outputs": []
    },
    {
      "cell_type": "markdown",
      "source": [
        "**Create the model**"
      ],
      "metadata": {
        "id": "3EAj8jT43epA"
      }
    },
    {
      "cell_type": "code",
      "source": [
        "xtrain,xtest,ytrain,ytest = train_test_split(Xr,Yr,train_size=0.75)\n",
        "model1 = LogisticRegression()\n",
        "\n",
        "model1.fit(xtrain,ytrain)"
      ],
      "metadata": {
        "execution": {
          "iopub.status.busy": "2023-10-01T12:47:10.516329Z",
          "iopub.execute_input": "2023-10-01T12:47:10.516812Z",
          "iopub.status.idle": "2023-10-01T12:47:10.63683Z",
          "shell.execute_reply.started": "2023-10-01T12:47:10.516779Z",
          "shell.execute_reply": "2023-10-01T12:47:10.635438Z"
        },
        "trusted": true,
        "id": "mkE1Z9iB3epA"
      },
      "execution_count": null,
      "outputs": []
    },
    {
      "cell_type": "markdown",
      "source": [
        "**Model Performance**"
      ],
      "metadata": {
        "id": "BECp-DEo3epA"
      }
    },
    {
      "cell_type": "code",
      "source": [
        "ytrainPred = model1.predict(xtrain)\n",
        "ytestPred = model1.predict(xtest)"
      ],
      "metadata": {
        "execution": {
          "iopub.status.busy": "2023-10-01T12:47:14.377447Z",
          "iopub.execute_input": "2023-10-01T12:47:14.377846Z",
          "iopub.status.idle": "2023-10-01T12:47:14.395474Z",
          "shell.execute_reply.started": "2023-10-01T12:47:14.377817Z",
          "shell.execute_reply": "2023-10-01T12:47:14.393808Z"
        },
        "trusted": true,
        "id": "n4HdH_6r3epA"
      },
      "execution_count": null,
      "outputs": []
    },
    {
      "cell_type": "code",
      "source": [
        "print(\"Training Data Accuracy\", (ytrain == ytrainPred).sum()/len(xtrain))\n",
        "print(\"Test Data Accuracy\", (ytest == ytestPred).sum()/len(xtest))"
      ],
      "metadata": {
        "execution": {
          "iopub.status.busy": "2023-10-01T12:47:15.277555Z",
          "iopub.execute_input": "2023-10-01T12:47:15.277951Z",
          "iopub.status.idle": "2023-10-01T12:47:15.285428Z",
          "shell.execute_reply.started": "2023-10-01T12:47:15.277923Z",
          "shell.execute_reply": "2023-10-01T12:47:15.284164Z"
        },
        "trusted": true,
        "id": "b3SaXu4i3epA"
      },
      "execution_count": null,
      "outputs": []
    },
    {
      "cell_type": "markdown",
      "source": [
        "**Confusion MAtrix**"
      ],
      "metadata": {
        "id": "sDBqVd-C3epA"
      }
    },
    {
      "cell_type": "code",
      "source": [
        "from sklearn.metrics import confusion_matrix"
      ],
      "metadata": {
        "execution": {
          "iopub.status.busy": "2023-10-01T12:47:26.275352Z",
          "iopub.execute_input": "2023-10-01T12:47:26.275747Z",
          "iopub.status.idle": "2023-10-01T12:47:26.28101Z",
          "shell.execute_reply.started": "2023-10-01T12:47:26.275719Z",
          "shell.execute_reply": "2023-10-01T12:47:26.279965Z"
        },
        "trusted": true,
        "id": "YCs2d2dh3epB"
      },
      "execution_count": null,
      "outputs": []
    },
    {
      "cell_type": "code",
      "source": [
        "conf_matrix_train = pd.DataFrame(confusion_matrix(ytrain , ytrainPred))\n",
        "conf_matrix_train"
      ],
      "metadata": {
        "execution": {
          "iopub.status.busy": "2023-10-01T12:48:59.689477Z",
          "iopub.execute_input": "2023-10-01T12:48:59.689977Z",
          "iopub.status.idle": "2023-10-01T12:48:59.70692Z",
          "shell.execute_reply.started": "2023-10-01T12:48:59.689936Z",
          "shell.execute_reply": "2023-10-01T12:48:59.705705Z"
        },
        "trusted": true,
        "id": "sZiklnKr3epB"
      },
      "execution_count": null,
      "outputs": []
    },
    {
      "cell_type": "code",
      "source": [
        "conf_matrix_train/conf_matrix_train.sum(axis=1)"
      ],
      "metadata": {
        "execution": {
          "iopub.status.busy": "2023-10-01T12:50:51.122925Z",
          "iopub.execute_input": "2023-10-01T12:50:51.123316Z",
          "iopub.status.idle": "2023-10-01T12:50:51.135071Z",
          "shell.execute_reply.started": "2023-10-01T12:50:51.123291Z",
          "shell.execute_reply": "2023-10-01T12:50:51.133604Z"
        },
        "trusted": true,
        "id": "hzt8GK243epB"
      },
      "execution_count": null,
      "outputs": []
    },
    {
      "cell_type": "code",
      "source": [
        "conf_matrix_test = pd.DataFrame(confusion_matrix(ytest , ytestPred))\n",
        "conf_matrix_test"
      ],
      "metadata": {
        "execution": {
          "iopub.status.busy": "2023-10-01T12:50:14.813503Z",
          "iopub.execute_input": "2023-10-01T12:50:14.813909Z",
          "iopub.status.idle": "2023-10-01T12:50:14.827698Z",
          "shell.execute_reply.started": "2023-10-01T12:50:14.813883Z",
          "shell.execute_reply": "2023-10-01T12:50:14.826268Z"
        },
        "trusted": true,
        "id": "y-jbSuVp3epB"
      },
      "execution_count": null,
      "outputs": []
    },
    {
      "cell_type": "code",
      "source": [
        "conf_matrix_test/conf_matrix_test.sum(axis=1)"
      ],
      "metadata": {
        "execution": {
          "iopub.status.busy": "2023-10-01T12:50:35.945651Z",
          "iopub.execute_input": "2023-10-01T12:50:35.946132Z",
          "iopub.status.idle": "2023-10-01T12:50:35.960786Z",
          "shell.execute_reply.started": "2023-10-01T12:50:35.94608Z",
          "shell.execute_reply": "2023-10-01T12:50:35.959378Z"
        },
        "trusted": true,
        "id": "WAEZ_mjF3epB"
      },
      "execution_count": null,
      "outputs": []
    },
    {
      "cell_type": "markdown",
      "source": [
        "**ROC AUC Curve Analysis - to fix Unbalanced data distribution**"
      ],
      "metadata": {
        "id": "1N3XRybW3epB"
      }
    },
    {
      "cell_type": "code",
      "source": [
        "xtrain,xtest,ytrain,ytest = train_test_split(X,Y,train_size=0.75)\n",
        "model2 = LogisticRegression()\n",
        "\n",
        "model2.fit(xtrain,ytrain)\n",
        "\n",
        "ytrainPred = model2.predict(xtrain)\n",
        "ytestPred = model2.predict(xtest)\n",
        "\n",
        "print(\"Training Data Accuracy\", (ytrain == ytrainPred).sum()/len(xtrain))\n",
        "print(\"Test Data Accuracy\", (ytest == ytestPred).sum()/len(xtest))"
      ],
      "metadata": {
        "execution": {
          "iopub.status.busy": "2023-10-01T13:01:27.775055Z",
          "iopub.execute_input": "2023-10-01T13:01:27.775459Z",
          "iopub.status.idle": "2023-10-01T13:01:27.877982Z",
          "shell.execute_reply.started": "2023-10-01T13:01:27.775431Z",
          "shell.execute_reply": "2023-10-01T13:01:27.876599Z"
        },
        "trusted": true,
        "id": "pWwqD8X03epB"
      },
      "execution_count": null,
      "outputs": []
    },
    {
      "cell_type": "code",
      "source": [
        "conf_matrix_train = pd.DataFrame(confusion_matrix(ytrain , ytrainPred))\n",
        "print(conf_matrix_train)\n",
        "print()\n",
        "conf_matrix_train/conf_matrix_train.sum(axis=1)"
      ],
      "metadata": {
        "execution": {
          "iopub.status.busy": "2023-10-01T13:02:14.891527Z",
          "iopub.execute_input": "2023-10-01T13:02:14.892003Z",
          "iopub.status.idle": "2023-10-01T13:02:14.911601Z",
          "shell.execute_reply.started": "2023-10-01T13:02:14.891965Z",
          "shell.execute_reply": "2023-10-01T13:02:14.910125Z"
        },
        "trusted": true,
        "id": "Ah3BUMMa3epB"
      },
      "execution_count": null,
      "outputs": []
    },
    {
      "cell_type": "code",
      "source": [
        "conf_matrix_test = pd.DataFrame(confusion_matrix(ytest , ytestPred))\n",
        "print(conf_matrix_test)\n",
        "print()\n",
        "conf_matrix_test/conf_matrix_test.sum(axis=1)"
      ],
      "metadata": {
        "execution": {
          "iopub.status.busy": "2023-10-01T13:02:40.160292Z",
          "iopub.execute_input": "2023-10-01T13:02:40.1607Z",
          "iopub.status.idle": "2023-10-01T13:02:40.177489Z",
          "shell.execute_reply.started": "2023-10-01T13:02:40.160672Z",
          "shell.execute_reply": "2023-10-01T13:02:40.176457Z"
        },
        "trusted": true,
        "id": "u6l_0uHp3epC"
      },
      "execution_count": null,
      "outputs": []
    },
    {
      "cell_type": "code",
      "source": [
        "ypredTrainProb = model2.predict_proba(xtrain)[:,1]"
      ],
      "metadata": {
        "execution": {
          "iopub.status.busy": "2023-10-01T13:21:25.688278Z",
          "iopub.execute_input": "2023-10-01T13:21:25.68873Z",
          "iopub.status.idle": "2023-10-01T13:21:25.705349Z",
          "shell.execute_reply.started": "2023-10-01T13:21:25.688697Z",
          "shell.execute_reply": "2023-10-01T13:21:25.703753Z"
        },
        "trusted": true,
        "id": "L9kC4r5I3epC"
      },
      "execution_count": null,
      "outputs": []
    },
    {
      "cell_type": "code",
      "source": [
        "from sklearn.metrics import roc_curve,roc_auc_score\n",
        "\n",
        "auc = roc_auc_score(ytrain,ypredTrainProb)\n",
        "print(auc)"
      ],
      "metadata": {
        "execution": {
          "iopub.status.busy": "2023-10-01T13:22:21.45417Z",
          "iopub.execute_input": "2023-10-01T13:22:21.454663Z",
          "iopub.status.idle": "2023-10-01T13:22:21.469786Z",
          "shell.execute_reply.started": "2023-10-01T13:22:21.454629Z",
          "shell.execute_reply": "2023-10-01T13:22:21.469013Z"
        },
        "trusted": true,
        "id": "pkKUVpJZ3epC"
      },
      "execution_count": null,
      "outputs": []
    },
    {
      "cell_type": "code",
      "source": [
        "fpr,tpr,thresh = roc_curve(ytrain,ypredTrainProb)"
      ],
      "metadata": {
        "execution": {
          "iopub.status.busy": "2023-10-01T13:22:49.884982Z",
          "iopub.execute_input": "2023-10-01T13:22:49.885356Z",
          "iopub.status.idle": "2023-10-01T13:22:49.893792Z",
          "shell.execute_reply.started": "2023-10-01T13:22:49.885328Z",
          "shell.execute_reply": "2023-10-01T13:22:49.892547Z"
        },
        "trusted": true,
        "id": "Kgy0tVeA3epC"
      },
      "execution_count": null,
      "outputs": []
    },
    {
      "cell_type": "code",
      "source": [
        "print(fpr)"
      ],
      "metadata": {
        "execution": {
          "iopub.status.busy": "2023-10-01T13:22:54.086959Z",
          "iopub.execute_input": "2023-10-01T13:22:54.087377Z",
          "iopub.status.idle": "2023-10-01T13:22:54.093913Z",
          "shell.execute_reply.started": "2023-10-01T13:22:54.087346Z",
          "shell.execute_reply": "2023-10-01T13:22:54.092769Z"
        },
        "trusted": true,
        "id": "8lG0RiVQ3epC"
      },
      "execution_count": null,
      "outputs": []
    },
    {
      "cell_type": "code",
      "source": [
        "print(tpr)"
      ],
      "metadata": {
        "execution": {
          "iopub.status.busy": "2023-10-01T13:23:00.188849Z",
          "iopub.execute_input": "2023-10-01T13:23:00.189234Z",
          "iopub.status.idle": "2023-10-01T13:23:00.195796Z",
          "shell.execute_reply.started": "2023-10-01T13:23:00.189207Z",
          "shell.execute_reply": "2023-10-01T13:23:00.194673Z"
        },
        "trusted": true,
        "id": "1MB04FjI3epC"
      },
      "execution_count": null,
      "outputs": []
    },
    {
      "cell_type": "code",
      "source": [
        "print(thresh)"
      ],
      "metadata": {
        "execution": {
          "iopub.status.busy": "2023-10-01T13:23:08.335974Z",
          "iopub.execute_input": "2023-10-01T13:23:08.33677Z",
          "iopub.status.idle": "2023-10-01T13:23:08.342259Z",
          "shell.execute_reply.started": "2023-10-01T13:23:08.336737Z",
          "shell.execute_reply": "2023-10-01T13:23:08.341067Z"
        },
        "trusted": true,
        "id": "P2a5j6133epC"
      },
      "execution_count": null,
      "outputs": []
    },
    {
      "cell_type": "code",
      "source": [
        "g_val = tpr * (1 - fpr)\n",
        "print(g_val)"
      ],
      "metadata": {
        "execution": {
          "iopub.status.busy": "2023-10-01T13:24:27.378995Z",
          "iopub.execute_input": "2023-10-01T13:24:27.379442Z",
          "iopub.status.idle": "2023-10-01T13:24:27.387337Z",
          "shell.execute_reply.started": "2023-10-01T13:24:27.379412Z",
          "shell.execute_reply": "2023-10-01T13:24:27.385743Z"
        },
        "trusted": true,
        "id": "K5IJlYoQ3epC"
      },
      "execution_count": null,
      "outputs": []
    },
    {
      "cell_type": "code",
      "source": [
        "print(max(g_val) , np.argmax(g_val))"
      ],
      "metadata": {
        "execution": {
          "iopub.status.busy": "2023-10-01T13:25:34.376178Z",
          "iopub.execute_input": "2023-10-01T13:25:34.37655Z",
          "iopub.status.idle": "2023-10-01T13:25:34.382765Z",
          "shell.execute_reply.started": "2023-10-01T13:25:34.376524Z",
          "shell.execute_reply": "2023-10-01T13:25:34.381891Z"
        },
        "trusted": true,
        "id": "ZXPbK7aI3epE"
      },
      "execution_count": null,
      "outputs": []
    },
    {
      "cell_type": "code",
      "source": [
        "print(f\"Thresh for max tpr & min fpr = {thresh[np.argmax(g_val)]}\")"
      ],
      "metadata": {
        "execution": {
          "iopub.status.busy": "2023-10-01T13:27:08.041904Z",
          "iopub.execute_input": "2023-10-01T13:27:08.04253Z",
          "iopub.status.idle": "2023-10-01T13:27:08.050591Z",
          "shell.execute_reply.started": "2023-10-01T13:27:08.042482Z",
          "shell.execute_reply": "2023-10-01T13:27:08.048744Z"
        },
        "trusted": true,
        "id": "q3OwD_TU3epE"
      },
      "execution_count": null,
      "outputs": []
    },
    {
      "cell_type": "code",
      "source": [
        "print(f\"TPR or Recall or Sensitivity class 1 Accuracy for best thresh = {tpr[np.argmax(g_val)]}\")"
      ],
      "metadata": {
        "execution": {
          "iopub.status.busy": "2023-10-01T13:29:03.234966Z",
          "iopub.execute_input": "2023-10-01T13:29:03.235363Z",
          "iopub.status.idle": "2023-10-01T13:29:03.242846Z",
          "shell.execute_reply.started": "2023-10-01T13:29:03.235334Z",
          "shell.execute_reply": "2023-10-01T13:29:03.241126Z"
        },
        "trusted": true,
        "id": "_ZX5GOQG3epE"
      },
      "execution_count": null,
      "outputs": []
    },
    {
      "cell_type": "code",
      "source": [
        "print(f\"FPR for best thresh = {fpr[np.argmax(g_val)]}\")"
      ],
      "metadata": {
        "execution": {
          "iopub.status.busy": "2023-10-01T13:28:00.971858Z",
          "iopub.execute_input": "2023-10-01T13:28:00.972327Z",
          "iopub.status.idle": "2023-10-01T13:28:00.97877Z",
          "shell.execute_reply.started": "2023-10-01T13:28:00.972293Z",
          "shell.execute_reply": "2023-10-01T13:28:00.977867Z"
        },
        "trusted": true,
        "id": "k3RLiwHg3epE"
      },
      "execution_count": null,
      "outputs": []
    },
    {
      "cell_type": "code",
      "source": [
        "print(f\"TNR or Specificity or class 0 Accuracy for best thresh = {1 - fpr[np.argmax(g_val)]}\")"
      ],
      "metadata": {
        "execution": {
          "iopub.status.busy": "2023-10-01T13:28:46.717288Z",
          "iopub.execute_input": "2023-10-01T13:28:46.717649Z",
          "iopub.status.idle": "2023-10-01T13:28:46.72485Z",
          "shell.execute_reply.started": "2023-10-01T13:28:46.717624Z",
          "shell.execute_reply": "2023-10-01T13:28:46.722995Z"
        },
        "trusted": true,
        "id": "6Wctt8_C3epE"
      },
      "execution_count": null,
      "outputs": []
    },
    {
      "cell_type": "code",
      "source": [
        "plt.figure(figsize = (10,6))\n",
        "\n",
        "plt.plot(fpr , tpr , marker = '*')\n",
        "\n",
        "plt.show()"
      ],
      "metadata": {
        "execution": {
          "iopub.status.busy": "2023-10-01T13:26:22.763573Z",
          "iopub.execute_input": "2023-10-01T13:26:22.76399Z",
          "iopub.status.idle": "2023-10-01T13:26:22.972848Z",
          "shell.execute_reply.started": "2023-10-01T13:26:22.763959Z",
          "shell.execute_reply": "2023-10-01T13:26:22.971466Z"
        },
        "trusted": true,
        "id": "lsIZ4gjn3epE"
      },
      "execution_count": null,
      "outputs": []
    },
    {
      "cell_type": "markdown",
      "source": [
        "**Evalauting model performance if threshold to decide 1 or 0 is 0.21**"
      ],
      "metadata": {
        "id": "1uxKwADe3epE"
      }
    },
    {
      "cell_type": "code",
      "source": [],
      "metadata": {
        "id": "8WOYBvY53epE"
      },
      "execution_count": null,
      "outputs": []
    }
  ]
}