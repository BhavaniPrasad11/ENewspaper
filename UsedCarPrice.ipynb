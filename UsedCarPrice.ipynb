{
  "metadata": {
    "kernelspec": {
      "language": "python",
      "display_name": "Python 3",
      "name": "python3"
    },
    "language_info": {
      "pygments_lexer": "ipython3",
      "nbconvert_exporter": "python",
      "version": "3.6.4",
      "file_extension": ".py",
      "codemirror_mode": {
        "name": "ipython",
        "version": 3
      },
      "name": "python",
      "mimetype": "text/x-python"
    },
    "colab": {
      "name": "UsedCarPrice",
      "provenance": []
    }
  },
  "nbformat_minor": 0,
  "nbformat": 4,
  "cells": [
    {
      "source": [
        "\n",
        "# IMPORTANT: RUN THIS CELL IN ORDER TO IMPORT YOUR KAGGLE DATA SOURCES\n",
        "# TO THE CORRECT LOCATION (/kaggle/input) IN YOUR NOTEBOOK,\n",
        "# THEN FEEL FREE TO DELETE THIS CELL.\n",
        "# NOTE: THIS NOTEBOOK ENVIRONMENT DIFFERS FROM KAGGLE'S PYTHON\n",
        "# ENVIRONMENT SO THERE MAY BE MISSING LIBRARIES USED BY YOUR\n",
        "# NOTEBOOK.\n",
        "\n",
        "import os\n",
        "import sys\n",
        "from tempfile import NamedTemporaryFile\n",
        "from urllib.request import urlopen\n",
        "from urllib.parse import unquote, urlparse\n",
        "from urllib.error import HTTPError\n",
        "from zipfile import ZipFile\n",
        "import tarfile\n",
        "import shutil\n",
        "\n",
        "CHUNK_SIZE = 40960\n",
        "DATA_SOURCE_MAPPING = 'used-car-price-prediction-dataset:https%3A%2F%2Fstorage.googleapis.com%2Fkaggle-data-sets%2F3742543%2F6478229%2Fbundle%2Farchive.zip%3FX-Goog-Algorithm%3DGOOG4-RSA-SHA256%26X-Goog-Credential%3Dgcp-kaggle-com%2540kaggle-161607.iam.gserviceaccount.com%252F20240224%252Fauto%252Fstorage%252Fgoog4_request%26X-Goog-Date%3D20240224T020407Z%26X-Goog-Expires%3D259200%26X-Goog-SignedHeaders%3Dhost%26X-Goog-Signature%3D8222b9125d72a6e9ba2fdd3a64b02c10526cd7f94013cc7f524f73e4bf0e07b3a7ad0fa00ced11234dea40fd9347f9ae5bccd8722cdfe4e21441df4671113187b8a8773a7feb729535bfa37ea5ea5d781dffe3b8b81e8e60beb07f4482cc8647e0c914ee706d690720ea541540662063309084665100c3be5edf77ba7cc2edaf3b3efbec6eb84ca3567b6ba800c9b7a674e72cf79a41f6ac43f996017ebd004635ff1cb840c02521d2d450e542c7513789f5bdadf2e9bc08e0dcb9fec7c92228da1baf366efce8830eca9233c6470f9c814333df8f890b0a19a8dbe9fc3cf251e2aafd570a6c5e624363f86f257051b02f58b5003ee1738f05ba0b5e4b1e2e3e'\n",
        "\n",
        "KAGGLE_INPUT_PATH='/kaggle/input'\n",
        "KAGGLE_WORKING_PATH='/kaggle/working'\n",
        "KAGGLE_SYMLINK='kaggle'\n",
        "\n",
        "!umount /kaggle/input/ 2> /dev/null\n",
        "shutil.rmtree('/kaggle/input', ignore_errors=True)\n",
        "os.makedirs(KAGGLE_INPUT_PATH, 0o777, exist_ok=True)\n",
        "os.makedirs(KAGGLE_WORKING_PATH, 0o777, exist_ok=True)\n",
        "\n",
        "try:\n",
        "  os.symlink(KAGGLE_INPUT_PATH, os.path.join(\"..\", 'input'), target_is_directory=True)\n",
        "except FileExistsError:\n",
        "  pass\n",
        "try:\n",
        "  os.symlink(KAGGLE_WORKING_PATH, os.path.join(\"..\", 'working'), target_is_directory=True)\n",
        "except FileExistsError:\n",
        "  pass\n",
        "\n",
        "for data_source_mapping in DATA_SOURCE_MAPPING.split(','):\n",
        "    directory, download_url_encoded = data_source_mapping.split(':')\n",
        "    download_url = unquote(download_url_encoded)\n",
        "    filename = urlparse(download_url).path\n",
        "    destination_path = os.path.join(KAGGLE_INPUT_PATH, directory)\n",
        "    try:\n",
        "        with urlopen(download_url) as fileres, NamedTemporaryFile() as tfile:\n",
        "            total_length = fileres.headers['content-length']\n",
        "            print(f'Downloading {directory}, {total_length} bytes compressed')\n",
        "            dl = 0\n",
        "            data = fileres.read(CHUNK_SIZE)\n",
        "            while len(data) > 0:\n",
        "                dl += len(data)\n",
        "                tfile.write(data)\n",
        "                done = int(50 * dl / int(total_length))\n",
        "                sys.stdout.write(f\"\\r[{'=' * done}{' ' * (50-done)}] {dl} bytes downloaded\")\n",
        "                sys.stdout.flush()\n",
        "                data = fileres.read(CHUNK_SIZE)\n",
        "            if filename.endswith('.zip'):\n",
        "              with ZipFile(tfile) as zfile:\n",
        "                zfile.extractall(destination_path)\n",
        "            else:\n",
        "              with tarfile.open(tfile.name) as tarfile:\n",
        "                tarfile.extractall(destination_path)\n",
        "            print(f'\\nDownloaded and uncompressed: {directory}')\n",
        "    except HTTPError as e:\n",
        "        print(f'Failed to load (likely expired) {download_url} to path {destination_path}')\n",
        "        continue\n",
        "    except OSError as e:\n",
        "        print(f'Failed to load {download_url} to path {destination_path}')\n",
        "        continue\n",
        "\n",
        "print('Data source import complete.')\n"
      ],
      "metadata": {
        "id": "y9EriOv32wDP"
      },
      "cell_type": "code",
      "outputs": [],
      "execution_count": null
    },
    {
      "cell_type": "code",
      "source": [
        "import pandas as pd\n",
        "import numpy as np\n",
        "\n",
        "df = pd.read_csv('/kaggle/input/used-car-price-prediction-dataset/used_cars.csv')\n",
        "df.head()"
      ],
      "metadata": {
        "execution": {
          "iopub.status.busy": "2023-09-27T14:09:20.947997Z",
          "iopub.execute_input": "2023-09-27T14:09:20.948808Z",
          "iopub.status.idle": "2023-09-27T14:09:21.342879Z",
          "shell.execute_reply.started": "2023-09-27T14:09:20.948772Z",
          "shell.execute_reply": "2023-09-27T14:09:21.341962Z"
        },
        "trusted": true,
        "id": "dshsFtMd2wDU"
      },
      "execution_count": null,
      "outputs": []
    },
    {
      "cell_type": "code",
      "source": [
        "df.shape"
      ],
      "metadata": {
        "execution": {
          "iopub.status.busy": "2023-09-27T14:09:22.375708Z",
          "iopub.execute_input": "2023-09-27T14:09:22.376073Z",
          "iopub.status.idle": "2023-09-27T14:09:22.383832Z",
          "shell.execute_reply.started": "2023-09-27T14:09:22.376041Z",
          "shell.execute_reply": "2023-09-27T14:09:22.38266Z"
        },
        "trusted": true,
        "id": "3SrRJFhJ2wDV"
      },
      "execution_count": null,
      "outputs": []
    },
    {
      "cell_type": "code",
      "source": [
        "df.isnull().sum()"
      ],
      "metadata": {
        "execution": {
          "iopub.status.busy": "2023-09-27T14:09:23.041315Z",
          "iopub.execute_input": "2023-09-27T14:09:23.042402Z",
          "iopub.status.idle": "2023-09-27T14:09:23.055992Z",
          "shell.execute_reply.started": "2023-09-27T14:09:23.042355Z",
          "shell.execute_reply": "2023-09-27T14:09:23.054592Z"
        },
        "trusted": true,
        "id": "EEzx-aqX2wDV"
      },
      "execution_count": null,
      "outputs": []
    },
    {
      "cell_type": "code",
      "source": [
        "(df.isnull().sum()/len(df))*100"
      ],
      "metadata": {
        "execution": {
          "iopub.status.busy": "2023-09-27T14:09:23.539153Z",
          "iopub.execute_input": "2023-09-27T14:09:23.539526Z",
          "iopub.status.idle": "2023-09-27T14:09:23.550528Z",
          "shell.execute_reply.started": "2023-09-27T14:09:23.539495Z",
          "shell.execute_reply": "2023-09-27T14:09:23.549573Z"
        },
        "trusted": true,
        "id": "MwcIKkS02wDW"
      },
      "execution_count": null,
      "outputs": []
    },
    {
      "cell_type": "markdown",
      "source": [
        "**Unique car Brands in the Dataset**"
      ],
      "metadata": {
        "id": "SLudwqrP2wDW"
      }
    },
    {
      "cell_type": "code",
      "source": [
        "df['brand'].unique()"
      ],
      "metadata": {
        "execution": {
          "iopub.status.busy": "2023-09-27T14:09:24.480736Z",
          "iopub.execute_input": "2023-09-27T14:09:24.481084Z",
          "iopub.status.idle": "2023-09-27T14:09:24.492592Z",
          "shell.execute_reply.started": "2023-09-27T14:09:24.481057Z",
          "shell.execute_reply": "2023-09-27T14:09:24.491468Z"
        },
        "trusted": true,
        "id": "tLIhFse82wDX"
      },
      "execution_count": null,
      "outputs": []
    },
    {
      "cell_type": "markdown",
      "source": [
        "**Number of cars in each brand in the dataset**"
      ],
      "metadata": {
        "id": "zYcvpbJ72wDX"
      }
    },
    {
      "cell_type": "code",
      "source": [
        "brand_count = df['brand'].value_counts()\n",
        "brand_count"
      ],
      "metadata": {
        "execution": {
          "iopub.status.busy": "2023-09-27T14:09:26.265546Z",
          "iopub.execute_input": "2023-09-27T14:09:26.266483Z",
          "iopub.status.idle": "2023-09-27T14:09:26.27743Z",
          "shell.execute_reply.started": "2023-09-27T14:09:26.26645Z",
          "shell.execute_reply": "2023-09-27T14:09:26.276093Z"
        },
        "trusted": true,
        "id": "bqBMY4kB2wDY"
      },
      "execution_count": null,
      "outputs": []
    },
    {
      "cell_type": "code",
      "source": [
        "brand_count.sum()"
      ],
      "metadata": {
        "execution": {
          "iopub.status.busy": "2023-09-27T14:09:27.109496Z",
          "iopub.execute_input": "2023-09-27T14:09:27.109864Z",
          "iopub.status.idle": "2023-09-27T14:09:27.116854Z",
          "shell.execute_reply.started": "2023-09-27T14:09:27.109834Z",
          "shell.execute_reply": "2023-09-27T14:09:27.115892Z"
        },
        "trusted": true,
        "id": "QGlgOCJ22wDY"
      },
      "execution_count": null,
      "outputs": []
    },
    {
      "cell_type": "code",
      "source": [
        "brand_count[brand_count > 25].sum()"
      ],
      "metadata": {
        "execution": {
          "iopub.status.busy": "2023-09-27T14:09:27.78505Z",
          "iopub.execute_input": "2023-09-27T14:09:27.785417Z",
          "iopub.status.idle": "2023-09-27T14:09:27.79378Z",
          "shell.execute_reply.started": "2023-09-27T14:09:27.785388Z",
          "shell.execute_reply": "2023-09-27T14:09:27.792604Z"
        },
        "trusted": true,
        "id": "BXW8JSR42wDZ"
      },
      "execution_count": null,
      "outputs": []
    },
    {
      "cell_type": "code",
      "source": [
        "(brand_count.sum() - brand_count[brand_count > 25].sum())/len(df)"
      ],
      "metadata": {
        "execution": {
          "iopub.status.busy": "2023-09-27T14:09:28.407798Z",
          "iopub.execute_input": "2023-09-27T14:09:28.408175Z",
          "iopub.status.idle": "2023-09-27T14:09:28.415673Z",
          "shell.execute_reply.started": "2023-09-27T14:09:28.408133Z",
          "shell.execute_reply": "2023-09-27T14:09:28.414611Z"
        },
        "trusted": true,
        "id": "Nivk9znq2wDZ"
      },
      "execution_count": null,
      "outputs": []
    },
    {
      "cell_type": "markdown",
      "source": [
        "**Filter and find car brands with sample size more then 25**"
      ],
      "metadata": {
        "id": "-uUrCYyc2wDZ"
      }
    },
    {
      "cell_type": "code",
      "source": [
        "brand_count_more_25 = brand_count[brand_count > 25]\n",
        "brand_count_more_25"
      ],
      "metadata": {
        "execution": {
          "iopub.status.busy": "2023-09-27T14:09:30.347713Z",
          "iopub.execute_input": "2023-09-27T14:09:30.34835Z",
          "iopub.status.idle": "2023-09-27T14:09:30.356502Z",
          "shell.execute_reply.started": "2023-09-27T14:09:30.348297Z",
          "shell.execute_reply": "2023-09-27T14:09:30.355472Z"
        },
        "trusted": true,
        "id": "Dzd10DDH2wDZ"
      },
      "execution_count": null,
      "outputs": []
    },
    {
      "cell_type": "markdown",
      "source": [
        "**Function to filter dataset with cars having sample more then 25**"
      ],
      "metadata": {
        "id": "pbjA2eFS2wDZ"
      }
    },
    {
      "cell_type": "code",
      "source": [
        "def filter_car(x):\n",
        "    return x in brand_count_more_25"
      ],
      "metadata": {
        "execution": {
          "iopub.status.busy": "2023-09-27T14:09:32.560384Z",
          "iopub.execute_input": "2023-09-27T14:09:32.560751Z",
          "iopub.status.idle": "2023-09-27T14:09:32.56501Z",
          "shell.execute_reply.started": "2023-09-27T14:09:32.560722Z",
          "shell.execute_reply": "2023-09-27T14:09:32.563905Z"
        },
        "trusted": true,
        "id": "k17w-Nis2wDZ"
      },
      "execution_count": null,
      "outputs": []
    },
    {
      "cell_type": "code",
      "source": [
        "filter_car('MINI')"
      ],
      "metadata": {
        "execution": {
          "iopub.status.busy": "2023-09-27T14:09:33.115746Z",
          "iopub.execute_input": "2023-09-27T14:09:33.116082Z",
          "iopub.status.idle": "2023-09-27T14:09:33.121534Z",
          "shell.execute_reply.started": "2023-09-27T14:09:33.116055Z",
          "shell.execute_reply": "2023-09-27T14:09:33.120745Z"
        },
        "trusted": true,
        "id": "lHd9sjMM2wDa"
      },
      "execution_count": null,
      "outputs": []
    },
    {
      "cell_type": "code",
      "source": [
        "filter_car('Suzuki')"
      ],
      "metadata": {
        "execution": {
          "iopub.status.busy": "2023-09-27T14:09:34.45843Z",
          "iopub.execute_input": "2023-09-27T14:09:34.458783Z",
          "iopub.status.idle": "2023-09-27T14:09:34.465043Z",
          "shell.execute_reply.started": "2023-09-27T14:09:34.458756Z",
          "shell.execute_reply": "2023-09-27T14:09:34.464035Z"
        },
        "trusted": true,
        "id": "dSnq7qSx2wDa"
      },
      "execution_count": null,
      "outputs": []
    },
    {
      "cell_type": "code",
      "source": [
        "df1 = df[df['brand'].apply(filter_car)]\n",
        "df1.head()"
      ],
      "metadata": {
        "execution": {
          "iopub.status.busy": "2023-09-27T14:09:34.92044Z",
          "iopub.execute_input": "2023-09-27T14:09:34.920807Z",
          "iopub.status.idle": "2023-09-27T14:09:34.948075Z",
          "shell.execute_reply.started": "2023-09-27T14:09:34.920777Z",
          "shell.execute_reply": "2023-09-27T14:09:34.947032Z"
        },
        "trusted": true,
        "id": "A1qLfskM2wDa"
      },
      "execution_count": null,
      "outputs": []
    },
    {
      "cell_type": "code",
      "source": [
        "df1.shape"
      ],
      "metadata": {
        "execution": {
          "iopub.status.busy": "2023-09-27T14:09:36.380674Z",
          "iopub.execute_input": "2023-09-27T14:09:36.381295Z",
          "iopub.status.idle": "2023-09-27T14:09:36.387319Z",
          "shell.execute_reply.started": "2023-09-27T14:09:36.38126Z",
          "shell.execute_reply": "2023-09-27T14:09:36.386182Z"
        },
        "trusted": true,
        "id": "oxd_sszU2wDa"
      },
      "execution_count": null,
      "outputs": []
    },
    {
      "cell_type": "code",
      "source": [
        "df1.isnull().sum()"
      ],
      "metadata": {
        "execution": {
          "iopub.status.busy": "2023-09-27T14:09:36.829226Z",
          "iopub.execute_input": "2023-09-27T14:09:36.830167Z",
          "iopub.status.idle": "2023-09-27T14:09:36.83975Z",
          "shell.execute_reply.started": "2023-09-27T14:09:36.830126Z",
          "shell.execute_reply": "2023-09-27T14:09:36.838604Z"
        },
        "trusted": true,
        "id": "m2lMgE2t2wDa"
      },
      "execution_count": null,
      "outputs": []
    },
    {
      "cell_type": "code",
      "source": [
        "df1['model'].nunique()"
      ],
      "metadata": {
        "execution": {
          "iopub.status.busy": "2023-09-27T14:09:37.978189Z",
          "iopub.execute_input": "2023-09-27T14:09:37.97856Z",
          "iopub.status.idle": "2023-09-27T14:09:37.984501Z",
          "shell.execute_reply.started": "2023-09-27T14:09:37.978527Z",
          "shell.execute_reply": "2023-09-27T14:09:37.983566Z"
        },
        "trusted": true,
        "id": "uEf65q9x2wDa"
      },
      "execution_count": null,
      "outputs": []
    },
    {
      "cell_type": "code",
      "source": [
        "df1['fuel_type'].unique()"
      ],
      "metadata": {
        "execution": {
          "iopub.status.busy": "2023-09-27T14:09:39.130893Z",
          "iopub.execute_input": "2023-09-27T14:09:39.131254Z",
          "iopub.status.idle": "2023-09-27T14:09:39.137668Z",
          "shell.execute_reply.started": "2023-09-27T14:09:39.131224Z",
          "shell.execute_reply": "2023-09-27T14:09:39.136766Z"
        },
        "trusted": true,
        "id": "HzX_XMjb2wDa"
      },
      "execution_count": null,
      "outputs": []
    },
    {
      "cell_type": "code",
      "source": [
        "df1['fuel_type'].value_counts()"
      ],
      "metadata": {
        "execution": {
          "iopub.status.busy": "2023-09-27T14:09:40.314893Z",
          "iopub.execute_input": "2023-09-27T14:09:40.31527Z",
          "iopub.status.idle": "2023-09-27T14:09:40.323066Z",
          "shell.execute_reply.started": "2023-09-27T14:09:40.315238Z",
          "shell.execute_reply": "2023-09-27T14:09:40.322147Z"
        },
        "trusted": true,
        "id": "GGzlQb9M2wDb"
      },
      "execution_count": null,
      "outputs": []
    },
    {
      "cell_type": "code",
      "source": [
        "df1[df1['fuel_type'] == 'not supported']"
      ],
      "metadata": {
        "execution": {
          "iopub.status.busy": "2023-09-27T14:09:41.813188Z",
          "iopub.execute_input": "2023-09-27T14:09:41.813575Z",
          "iopub.status.idle": "2023-09-27T14:09:41.829272Z",
          "shell.execute_reply.started": "2023-09-27T14:09:41.813542Z",
          "shell.execute_reply": "2023-09-27T14:09:41.828264Z"
        },
        "trusted": true,
        "id": "oy2n-bLQ2wDb"
      },
      "execution_count": null,
      "outputs": []
    },
    {
      "cell_type": "code",
      "source": [
        "df1[df1['fuel_type'] == '–']"
      ],
      "metadata": {
        "execution": {
          "iopub.status.busy": "2023-09-27T14:09:43.015072Z",
          "iopub.execute_input": "2023-09-27T14:09:43.015443Z",
          "iopub.status.idle": "2023-09-27T14:09:43.04146Z",
          "shell.execute_reply.started": "2023-09-27T14:09:43.015413Z",
          "shell.execute_reply": "2023-09-27T14:09:43.040392Z"
        },
        "trusted": true,
        "id": "rOMKxRgl2wDb"
      },
      "execution_count": null,
      "outputs": []
    },
    {
      "cell_type": "code",
      "source": [
        "#replace all '–' with null values\n",
        "\n",
        "def replace_dash(x):\n",
        "    if x == '–':\n",
        "        return np.nan\n",
        "    else:\n",
        "        return x"
      ],
      "metadata": {
        "execution": {
          "iopub.status.busy": "2023-09-27T14:09:43.333976Z",
          "iopub.execute_input": "2023-09-27T14:09:43.334348Z",
          "iopub.status.idle": "2023-09-27T14:09:43.339223Z",
          "shell.execute_reply.started": "2023-09-27T14:09:43.334316Z",
          "shell.execute_reply": "2023-09-27T14:09:43.338188Z"
        },
        "trusted": true,
        "id": "WhmVWVbg2wDb"
      },
      "execution_count": null,
      "outputs": []
    },
    {
      "cell_type": "code",
      "source": [
        "df2 = df1.applymap(replace_dash)"
      ],
      "metadata": {
        "execution": {
          "iopub.status.busy": "2023-09-27T14:09:44.520394Z",
          "iopub.execute_input": "2023-09-27T14:09:44.520757Z",
          "iopub.status.idle": "2023-09-27T14:09:44.539565Z",
          "shell.execute_reply.started": "2023-09-27T14:09:44.520724Z",
          "shell.execute_reply": "2023-09-27T14:09:44.538491Z"
        },
        "trusted": true,
        "id": "qn-_C42C2wDb"
      },
      "execution_count": null,
      "outputs": []
    },
    {
      "cell_type": "code",
      "source": [
        "df2.isnull().sum()"
      ],
      "metadata": {
        "execution": {
          "iopub.status.busy": "2023-09-27T14:09:45.896097Z",
          "iopub.execute_input": "2023-09-27T14:09:45.897123Z",
          "iopub.status.idle": "2023-09-27T14:09:45.908412Z",
          "shell.execute_reply.started": "2023-09-27T14:09:45.897082Z",
          "shell.execute_reply": "2023-09-27T14:09:45.907244Z"
        },
        "trusted": true,
        "id": "LOSD8Dld2wDc"
      },
      "execution_count": null,
      "outputs": []
    },
    {
      "cell_type": "code",
      "source": [
        "#df2.dropna()"
      ],
      "metadata": {
        "execution": {
          "iopub.status.busy": "2023-09-27T14:09:46.224914Z",
          "iopub.execute_input": "2023-09-27T14:09:46.225613Z",
          "iopub.status.idle": "2023-09-27T14:09:46.230134Z",
          "shell.execute_reply.started": "2023-09-27T14:09:46.225573Z",
          "shell.execute_reply": "2023-09-27T14:09:46.228943Z"
        },
        "trusted": true,
        "id": "RetKe4Jj2wDc"
      },
      "execution_count": null,
      "outputs": []
    },
    {
      "cell_type": "code",
      "source": [
        "df2['fuel_type'].value_counts()"
      ],
      "metadata": {
        "execution": {
          "iopub.status.busy": "2023-09-27T14:09:47.510543Z",
          "iopub.execute_input": "2023-09-27T14:09:47.511704Z",
          "iopub.status.idle": "2023-09-27T14:09:47.520571Z",
          "shell.execute_reply.started": "2023-09-27T14:09:47.511655Z",
          "shell.execute_reply": "2023-09-27T14:09:47.519425Z"
        },
        "trusted": true,
        "id": "v-NFwxQh2wDc"
      },
      "execution_count": null,
      "outputs": []
    },
    {
      "cell_type": "markdown",
      "source": [
        "**Remove car samples with Plug-In Hybrid & not supported fuel type as their sample size is very less**"
      ],
      "metadata": {
        "id": "ilAFs4VR2wDc"
      }
    },
    {
      "cell_type": "code",
      "source": [
        "df3 = df2[df2['fuel_type'].isin(['Gasoline','Hybrid','E85 Flex Fuel','Diesel'])]\n",
        "df3.head()"
      ],
      "metadata": {
        "execution": {
          "iopub.status.busy": "2023-09-27T14:09:53.077373Z",
          "iopub.execute_input": "2023-09-27T14:09:53.078288Z",
          "iopub.status.idle": "2023-09-27T14:09:53.094264Z",
          "shell.execute_reply.started": "2023-09-27T14:09:53.07825Z",
          "shell.execute_reply": "2023-09-27T14:09:53.093255Z"
        },
        "trusted": true,
        "id": "hkE4CgD02wDc"
      },
      "execution_count": null,
      "outputs": []
    },
    {
      "cell_type": "code",
      "source": [
        "df3.groupby('brand')['fuel_type'].value_counts().unstack().fillna(0)"
      ],
      "metadata": {
        "execution": {
          "iopub.status.busy": "2023-09-27T14:10:10.45199Z",
          "iopub.execute_input": "2023-09-27T14:10:10.452341Z",
          "iopub.status.idle": "2023-09-27T14:10:10.483424Z",
          "shell.execute_reply.started": "2023-09-27T14:10:10.452313Z",
          "shell.execute_reply": "2023-09-27T14:10:10.482513Z"
        },
        "trusted": true,
        "id": "ugOvjU2j2wDc"
      },
      "execution_count": null,
      "outputs": []
    },
    {
      "cell_type": "markdown",
      "source": [
        "**Fill all the missing values in fuel type with \"Gasoline\" as all brands have most number of gasoline cars**"
      ],
      "metadata": {
        "id": "Fh7fhmQv2wDc"
      }
    },
    {
      "cell_type": "code",
      "source": [
        "df3['fuel_type'] = df3['fuel_type'].fillna('Gasoline')"
      ],
      "metadata": {
        "execution": {
          "iopub.status.busy": "2023-09-27T14:10:16.691376Z",
          "iopub.execute_input": "2023-09-27T14:10:16.691755Z",
          "iopub.status.idle": "2023-09-27T14:10:16.70066Z",
          "shell.execute_reply.started": "2023-09-27T14:10:16.691723Z",
          "shell.execute_reply": "2023-09-27T14:10:16.699527Z"
        },
        "trusted": true,
        "id": "btU6QLwN2wDd"
      },
      "execution_count": null,
      "outputs": []
    },
    {
      "cell_type": "code",
      "source": [
        "df3.isnull().sum()"
      ],
      "metadata": {
        "execution": {
          "iopub.status.busy": "2023-09-27T14:10:18.568079Z",
          "iopub.execute_input": "2023-09-27T14:10:18.568513Z",
          "iopub.status.idle": "2023-09-27T14:10:18.578514Z",
          "shell.execute_reply.started": "2023-09-27T14:10:18.568469Z",
          "shell.execute_reply": "2023-09-27T14:10:18.577501Z"
        },
        "trusted": true,
        "id": "HNCB8-V_2wDd"
      },
      "execution_count": null,
      "outputs": []
    },
    {
      "cell_type": "code",
      "source": [
        "df3[df3['transmission'].isnull()]"
      ],
      "metadata": {
        "execution": {
          "iopub.status.busy": "2023-09-27T14:10:18.986964Z",
          "iopub.execute_input": "2023-09-27T14:10:18.987669Z",
          "iopub.status.idle": "2023-09-27T14:10:19.001638Z",
          "shell.execute_reply.started": "2023-09-27T14:10:18.98763Z",
          "shell.execute_reply": "2023-09-27T14:10:19.000494Z"
        },
        "trusted": true,
        "id": "VmqcJY112wDd"
      },
      "execution_count": null,
      "outputs": []
    },
    {
      "cell_type": "code",
      "source": [
        "df3['transmission'] = df3['transmission'].fillna('_')"
      ],
      "metadata": {
        "execution": {
          "iopub.status.busy": "2023-09-27T14:10:20.454693Z",
          "iopub.execute_input": "2023-09-27T14:10:20.455047Z",
          "iopub.status.idle": "2023-09-27T14:10:20.461471Z",
          "shell.execute_reply.started": "2023-09-27T14:10:20.455017Z",
          "shell.execute_reply": "2023-09-27T14:10:20.460451Z"
        },
        "trusted": true,
        "id": "4NUpnx322wDd"
      },
      "execution_count": null,
      "outputs": []
    },
    {
      "cell_type": "code",
      "source": [
        "df3['transmission'].unique()"
      ],
      "metadata": {
        "execution": {
          "iopub.status.busy": "2023-09-27T14:10:21.772826Z",
          "iopub.execute_input": "2023-09-27T14:10:21.773181Z",
          "iopub.status.idle": "2023-09-27T14:10:21.779871Z",
          "shell.execute_reply.started": "2023-09-27T14:10:21.773152Z",
          "shell.execute_reply": "2023-09-27T14:10:21.779157Z"
        },
        "trusted": true,
        "id": "GXyFkb5l2wDh"
      },
      "execution_count": null,
      "outputs": []
    },
    {
      "cell_type": "code",
      "source": [
        "df3['transmission'].nunique()"
      ],
      "metadata": {
        "execution": {
          "iopub.status.busy": "2023-09-27T14:10:22.51841Z",
          "iopub.execute_input": "2023-09-27T14:10:22.519085Z",
          "iopub.status.idle": "2023-09-27T14:10:22.525717Z",
          "shell.execute_reply.started": "2023-09-27T14:10:22.519051Z",
          "shell.execute_reply": "2023-09-27T14:10:22.52468Z"
        },
        "trusted": true,
        "id": "wDXBTwje2wDi"
      },
      "execution_count": null,
      "outputs": []
    },
    {
      "cell_type": "code",
      "source": [
        "df3['transmission'].value_counts()"
      ],
      "metadata": {
        "execution": {
          "iopub.status.busy": "2023-09-27T14:10:24.320962Z",
          "iopub.execute_input": "2023-09-27T14:10:24.321364Z",
          "iopub.status.idle": "2023-09-27T14:10:24.330767Z",
          "shell.execute_reply.started": "2023-09-27T14:10:24.32133Z",
          "shell.execute_reply": "2023-09-27T14:10:24.329703Z"
        },
        "trusted": true,
        "id": "m_sWNK_12wDi"
      },
      "execution_count": null,
      "outputs": []
    },
    {
      "cell_type": "code",
      "source": [
        "def fix_transmission_category(x):\n",
        "    if 'A/T' in x or 'Automatic' in x:\n",
        "        return 'Automatic'\n",
        "    elif 'M/T' in x or 'Manual' in x:\n",
        "        return 'Manual'\n",
        "    else:\n",
        "        return x"
      ],
      "metadata": {
        "execution": {
          "iopub.status.busy": "2023-09-27T14:10:25.47401Z",
          "iopub.execute_input": "2023-09-27T14:10:25.474382Z",
          "iopub.status.idle": "2023-09-27T14:10:25.479651Z",
          "shell.execute_reply.started": "2023-09-27T14:10:25.474347Z",
          "shell.execute_reply": "2023-09-27T14:10:25.478561Z"
        },
        "trusted": true,
        "id": "rznXHG2N2wDi"
      },
      "execution_count": null,
      "outputs": []
    },
    {
      "cell_type": "code",
      "source": [
        "fix_transmission_category('Automatic, 8-Spd PDK Dual-Clutch')"
      ],
      "metadata": {
        "execution": {
          "iopub.status.busy": "2023-09-27T14:10:26.924483Z",
          "iopub.execute_input": "2023-09-27T14:10:26.925436Z",
          "iopub.status.idle": "2023-09-27T14:10:26.930918Z",
          "shell.execute_reply.started": "2023-09-27T14:10:26.925397Z",
          "shell.execute_reply": "2023-09-27T14:10:26.930137Z"
        },
        "trusted": true,
        "id": "mInSIfIT2wDi"
      },
      "execution_count": null,
      "outputs": []
    },
    {
      "cell_type": "code",
      "source": [
        "df3.isnull().sum()"
      ],
      "metadata": {
        "execution": {
          "iopub.status.busy": "2023-09-27T14:10:28.260843Z",
          "iopub.execute_input": "2023-09-27T14:10:28.261242Z",
          "iopub.status.idle": "2023-09-27T14:10:28.271087Z",
          "shell.execute_reply.started": "2023-09-27T14:10:28.261188Z",
          "shell.execute_reply": "2023-09-27T14:10:28.27016Z"
        },
        "trusted": true,
        "id": "CAs-M0jc2wDi"
      },
      "execution_count": null,
      "outputs": []
    },
    {
      "cell_type": "code",
      "source": [
        "df3['transmission'] = df3['transmission'].astype(str).apply(fix_transmission_category)"
      ],
      "metadata": {
        "execution": {
          "iopub.status.busy": "2023-09-27T14:10:29.589189Z",
          "iopub.execute_input": "2023-09-27T14:10:29.589972Z",
          "iopub.status.idle": "2023-09-27T14:10:29.596223Z",
          "shell.execute_reply.started": "2023-09-27T14:10:29.589939Z",
          "shell.execute_reply": "2023-09-27T14:10:29.595255Z"
        },
        "trusted": true,
        "id": "AsCgf0T32wDi"
      },
      "execution_count": null,
      "outputs": []
    },
    {
      "cell_type": "code",
      "source": [
        "df3['transmission'].value_counts()"
      ],
      "metadata": {
        "execution": {
          "iopub.status.busy": "2023-09-27T14:10:31.008676Z",
          "iopub.execute_input": "2023-09-27T14:10:31.009051Z",
          "iopub.status.idle": "2023-09-27T14:10:31.017459Z",
          "shell.execute_reply.started": "2023-09-27T14:10:31.009018Z",
          "shell.execute_reply": "2023-09-27T14:10:31.016352Z"
        },
        "trusted": true,
        "id": "DiSSi2ne2wDj"
      },
      "execution_count": null,
      "outputs": []
    },
    {
      "cell_type": "code",
      "source": [
        "df3['transmission'] = df3['transmission'].apply(lambda x : x if x in ['Automatic','Transmission w/Dual Shift Mode',\n",
        "                                                                      'Manual' , 'CVT Transmission','_'] else 'Others')"
      ],
      "metadata": {
        "execution": {
          "iopub.status.busy": "2023-09-27T14:10:31.633539Z",
          "iopub.execute_input": "2023-09-27T14:10:31.634244Z",
          "iopub.status.idle": "2023-09-27T14:10:31.641999Z",
          "shell.execute_reply.started": "2023-09-27T14:10:31.634189Z",
          "shell.execute_reply": "2023-09-27T14:10:31.641139Z"
        },
        "trusted": true,
        "id": "18IREYgm2wDj"
      },
      "execution_count": null,
      "outputs": []
    },
    {
      "cell_type": "code",
      "source": [
        "df3['transmission'].value_counts()"
      ],
      "metadata": {
        "execution": {
          "iopub.status.busy": "2023-09-27T14:10:34.663734Z",
          "iopub.execute_input": "2023-09-27T14:10:34.664275Z",
          "iopub.status.idle": "2023-09-27T14:10:34.671458Z",
          "shell.execute_reply.started": "2023-09-27T14:10:34.664246Z",
          "shell.execute_reply": "2023-09-27T14:10:34.67038Z"
        },
        "trusted": true,
        "id": "KjTbITsZ2wDj"
      },
      "execution_count": null,
      "outputs": []
    },
    {
      "cell_type": "code",
      "source": [
        "df3[df3['transmission'] == '_']"
      ],
      "metadata": {
        "execution": {
          "iopub.status.busy": "2023-09-27T14:10:35.173854Z",
          "iopub.execute_input": "2023-09-27T14:10:35.174583Z",
          "iopub.status.idle": "2023-09-27T14:10:35.189318Z",
          "shell.execute_reply.started": "2023-09-27T14:10:35.174542Z",
          "shell.execute_reply": "2023-09-27T14:10:35.188352Z"
        },
        "trusted": true,
        "id": "8O0pvJSQ2wDj"
      },
      "execution_count": null,
      "outputs": []
    },
    {
      "cell_type": "code",
      "source": [
        "df3.groupby('brand')['transmission'].value_counts().unstack().fillna(0)"
      ],
      "metadata": {
        "execution": {
          "iopub.status.busy": "2023-09-27T14:10:37.257737Z",
          "iopub.execute_input": "2023-09-27T14:10:37.258112Z",
          "iopub.status.idle": "2023-09-27T14:10:37.288477Z",
          "shell.execute_reply.started": "2023-09-27T14:10:37.258079Z",
          "shell.execute_reply": "2023-09-27T14:10:37.287491Z"
        },
        "trusted": true,
        "id": "b3ghX3Uw2wDj"
      },
      "execution_count": null,
      "outputs": []
    },
    {
      "cell_type": "code",
      "source": [
        "df3['transmission'] = df3['transmission'].str.replace('_','Automatic')"
      ],
      "metadata": {
        "execution": {
          "iopub.status.busy": "2023-09-27T14:10:37.869417Z",
          "iopub.execute_input": "2023-09-27T14:10:37.869775Z",
          "iopub.status.idle": "2023-09-27T14:10:37.877722Z",
          "shell.execute_reply.started": "2023-09-27T14:10:37.869747Z",
          "shell.execute_reply": "2023-09-27T14:10:37.876698Z"
        },
        "trusted": true,
        "id": "d8U8OGf72wDj"
      },
      "execution_count": null,
      "outputs": []
    },
    {
      "cell_type": "code",
      "source": [
        "df3['transmission'].value_counts()"
      ],
      "metadata": {
        "execution": {
          "iopub.status.busy": "2023-09-27T14:10:39.27774Z",
          "iopub.execute_input": "2023-09-27T14:10:39.278083Z",
          "iopub.status.idle": "2023-09-27T14:10:39.28613Z",
          "shell.execute_reply.started": "2023-09-27T14:10:39.278055Z",
          "shell.execute_reply": "2023-09-27T14:10:39.285251Z"
        },
        "trusted": true,
        "id": "uw0i6EmD2wDj"
      },
      "execution_count": null,
      "outputs": []
    },
    {
      "cell_type": "code",
      "source": [
        "df3.isnull().sum()"
      ],
      "metadata": {
        "execution": {
          "iopub.status.busy": "2023-09-27T14:10:40.184137Z",
          "iopub.execute_input": "2023-09-27T14:10:40.18451Z",
          "iopub.status.idle": "2023-09-27T14:10:40.194244Z",
          "shell.execute_reply.started": "2023-09-27T14:10:40.184477Z",
          "shell.execute_reply": "2023-09-27T14:10:40.193154Z"
        },
        "trusted": true,
        "id": "vMjV7qHs2wDk"
      },
      "execution_count": null,
      "outputs": []
    },
    {
      "cell_type": "code",
      "source": [
        "df4 = df3.fillna('_')"
      ],
      "metadata": {
        "execution": {
          "iopub.status.busy": "2023-09-27T14:10:41.519938Z",
          "iopub.execute_input": "2023-09-27T14:10:41.520314Z",
          "iopub.status.idle": "2023-09-27T14:10:41.529057Z",
          "shell.execute_reply.started": "2023-09-27T14:10:41.520283Z",
          "shell.execute_reply": "2023-09-27T14:10:41.528153Z"
        },
        "trusted": true,
        "id": "NnvC9K_k2wDk"
      },
      "execution_count": null,
      "outputs": []
    },
    {
      "cell_type": "code",
      "source": [
        "(df4 == '_').sum()"
      ],
      "metadata": {
        "execution": {
          "iopub.status.busy": "2023-09-27T14:10:42.76219Z",
          "iopub.execute_input": "2023-09-27T14:10:42.762557Z",
          "iopub.status.idle": "2023-09-27T14:10:42.774275Z",
          "shell.execute_reply.started": "2023-09-27T14:10:42.762527Z",
          "shell.execute_reply": "2023-09-27T14:10:42.773018Z"
        },
        "trusted": true,
        "id": "-pcS19wn2wDk"
      },
      "execution_count": null,
      "outputs": []
    },
    {
      "cell_type": "code",
      "source": [
        "df4[df4['ext_col'] == '_']"
      ],
      "metadata": {
        "execution": {
          "iopub.status.busy": "2023-09-27T14:10:44.307322Z",
          "iopub.execute_input": "2023-09-27T14:10:44.307696Z",
          "iopub.status.idle": "2023-09-27T14:10:44.326289Z",
          "shell.execute_reply.started": "2023-09-27T14:10:44.307667Z",
          "shell.execute_reply": "2023-09-27T14:10:44.325117Z"
        },
        "trusted": true,
        "id": "xDnxNZsW2wDk"
      },
      "execution_count": null,
      "outputs": []
    },
    {
      "cell_type": "code",
      "source": [
        "df4['ext_col'].nunique()"
      ],
      "metadata": {
        "execution": {
          "iopub.status.busy": "2023-09-27T14:10:46.119427Z",
          "iopub.execute_input": "2023-09-27T14:10:46.120181Z",
          "iopub.status.idle": "2023-09-27T14:10:46.127051Z",
          "shell.execute_reply.started": "2023-09-27T14:10:46.120142Z",
          "shell.execute_reply": "2023-09-27T14:10:46.126046Z"
        },
        "trusted": true,
        "id": "MUi0SnnS2wDk"
      },
      "execution_count": null,
      "outputs": []
    },
    {
      "cell_type": "code",
      "source": [
        "df4['int_col'].nunique()"
      ],
      "metadata": {
        "execution": {
          "iopub.status.busy": "2023-09-27T14:10:46.780663Z",
          "iopub.execute_input": "2023-09-27T14:10:46.78136Z",
          "iopub.status.idle": "2023-09-27T14:10:46.788062Z",
          "shell.execute_reply.started": "2023-09-27T14:10:46.781323Z",
          "shell.execute_reply": "2023-09-27T14:10:46.787002Z"
        },
        "trusted": true,
        "id": "0zva1Z3w2wDk"
      },
      "execution_count": null,
      "outputs": []
    },
    {
      "cell_type": "code",
      "source": [
        "df4['ext_col'].value_counts().head(10)"
      ],
      "metadata": {
        "execution": {
          "iopub.status.busy": "2023-09-27T14:10:47.613118Z",
          "iopub.execute_input": "2023-09-27T14:10:47.61411Z",
          "iopub.status.idle": "2023-09-27T14:10:47.623113Z",
          "shell.execute_reply.started": "2023-09-27T14:10:47.614065Z",
          "shell.execute_reply": "2023-09-27T14:10:47.622084Z"
        },
        "trusted": true,
        "id": "15syOczZ2wDl"
      },
      "execution_count": null,
      "outputs": []
    },
    {
      "cell_type": "code",
      "source": [
        "df4['ext_col'] = df4['ext_col'].apply(lambda x : x if x in ['Black','White','Gray','Silver','Blue','Red','_'] else 'Others')"
      ],
      "metadata": {
        "execution": {
          "iopub.status.busy": "2023-09-27T14:10:49.862304Z",
          "iopub.execute_input": "2023-09-27T14:10:49.863002Z",
          "iopub.status.idle": "2023-09-27T14:10:49.869912Z",
          "shell.execute_reply.started": "2023-09-27T14:10:49.862968Z",
          "shell.execute_reply": "2023-09-27T14:10:49.868986Z"
        },
        "trusted": true,
        "id": "dI2xMvOg2wDl"
      },
      "execution_count": null,
      "outputs": []
    },
    {
      "cell_type": "code",
      "source": [
        "df4['ext_col'].value_counts()"
      ],
      "metadata": {
        "execution": {
          "iopub.status.busy": "2023-09-27T14:10:56.85316Z",
          "iopub.execute_input": "2023-09-27T14:10:56.85377Z",
          "iopub.status.idle": "2023-09-27T14:10:56.862509Z",
          "shell.execute_reply.started": "2023-09-27T14:10:56.85373Z",
          "shell.execute_reply": "2023-09-27T14:10:56.861397Z"
        },
        "trusted": true,
        "id": "JjD90Z2l2wDl"
      },
      "execution_count": null,
      "outputs": []
    },
    {
      "cell_type": "code",
      "source": [
        "df4['int_col'].value_counts().head(10)"
      ],
      "metadata": {
        "execution": {
          "iopub.status.busy": "2023-09-27T14:10:58.191983Z",
          "iopub.execute_input": "2023-09-27T14:10:58.192939Z",
          "iopub.status.idle": "2023-09-27T14:10:58.20002Z",
          "shell.execute_reply.started": "2023-09-27T14:10:58.1929Z",
          "shell.execute_reply": "2023-09-27T14:10:58.199346Z"
        },
        "trusted": true,
        "id": "KJcI304e2wDl"
      },
      "execution_count": null,
      "outputs": []
    },
    {
      "cell_type": "code",
      "source": [
        "df4['int_col'] = df4['int_col'].apply(lambda x : x if x in ['Black','Beige','Gray','Brown','Red','_'] else 'Others')"
      ],
      "metadata": {
        "execution": {
          "iopub.status.busy": "2023-09-27T14:10:58.625363Z",
          "iopub.execute_input": "2023-09-27T14:10:58.626013Z",
          "iopub.status.idle": "2023-09-27T14:10:58.631825Z",
          "shell.execute_reply.started": "2023-09-27T14:10:58.625976Z",
          "shell.execute_reply": "2023-09-27T14:10:58.631088Z"
        },
        "trusted": true,
        "id": "8U5IPOuW2wDl"
      },
      "execution_count": null,
      "outputs": []
    },
    {
      "cell_type": "code",
      "source": [
        "df4['int_col'].value_counts()"
      ],
      "metadata": {
        "execution": {
          "iopub.status.busy": "2023-09-27T14:11:00.282141Z",
          "iopub.execute_input": "2023-09-27T14:11:00.282748Z",
          "iopub.status.idle": "2023-09-27T14:11:00.290449Z",
          "shell.execute_reply.started": "2023-09-27T14:11:00.282714Z",
          "shell.execute_reply": "2023-09-27T14:11:00.289463Z"
        },
        "trusted": true,
        "id": "MP9mt95s2wDl"
      },
      "execution_count": null,
      "outputs": []
    },
    {
      "cell_type": "code",
      "source": [
        "df4.groupby('brand')['int_col'].value_counts().unstack().fillna(0)"
      ],
      "metadata": {
        "execution": {
          "iopub.status.busy": "2023-09-27T14:11:01.873931Z",
          "iopub.execute_input": "2023-09-27T14:11:01.874336Z",
          "iopub.status.idle": "2023-09-27T14:11:01.909552Z",
          "shell.execute_reply.started": "2023-09-27T14:11:01.874303Z",
          "shell.execute_reply": "2023-09-27T14:11:01.908578Z"
        },
        "trusted": true,
        "id": "ZjiyBAfe2wDl"
      },
      "execution_count": null,
      "outputs": []
    },
    {
      "cell_type": "code",
      "source": [
        "df4.groupby('brand')['ext_col'].value_counts().unstack().fillna(0)"
      ],
      "metadata": {
        "execution": {
          "iopub.status.busy": "2023-09-27T14:11:02.376264Z",
          "iopub.execute_input": "2023-09-27T14:11:02.376643Z",
          "iopub.status.idle": "2023-09-27T14:11:02.419355Z",
          "shell.execute_reply.started": "2023-09-27T14:11:02.376612Z",
          "shell.execute_reply": "2023-09-27T14:11:02.418283Z"
        },
        "trusted": true,
        "id": "9m7SPvC62wDm"
      },
      "execution_count": null,
      "outputs": []
    },
    {
      "cell_type": "code",
      "source": [
        "df4.groupby('ext_col')['int_col'].value_counts().unstack().fillna(0)"
      ],
      "metadata": {
        "execution": {
          "iopub.status.busy": "2023-09-27T14:11:04.101115Z",
          "iopub.execute_input": "2023-09-27T14:11:04.101744Z",
          "iopub.status.idle": "2023-09-27T14:11:04.121685Z",
          "shell.execute_reply.started": "2023-09-27T14:11:04.101714Z",
          "shell.execute_reply": "2023-09-27T14:11:04.120781Z"
        },
        "trusted": true,
        "id": "Zta5RisS2wDm"
      },
      "execution_count": null,
      "outputs": []
    },
    {
      "cell_type": "code",
      "source": [
        "df4['ext_col'] = df4['ext_col'].str.replace('_','Black')\n",
        "df4['int_col'] = df4['int_col'].str.replace('_','Black')"
      ],
      "metadata": {
        "execution": {
          "iopub.status.busy": "2023-09-27T14:11:05.480216Z",
          "iopub.execute_input": "2023-09-27T14:11:05.480572Z",
          "iopub.status.idle": "2023-09-27T14:11:05.488996Z",
          "shell.execute_reply.started": "2023-09-27T14:11:05.480543Z",
          "shell.execute_reply": "2023-09-27T14:11:05.488068Z"
        },
        "trusted": true,
        "id": "Bp-ft1qN2wDm"
      },
      "execution_count": null,
      "outputs": []
    },
    {
      "cell_type": "code",
      "source": [
        "#We replaced all null values with '_'\n",
        "(df4 == '_').sum()"
      ],
      "metadata": {
        "execution": {
          "iopub.status.busy": "2023-09-27T14:11:06.121101Z",
          "iopub.execute_input": "2023-09-27T14:11:06.121459Z",
          "iopub.status.idle": "2023-09-27T14:11:06.135838Z",
          "shell.execute_reply.started": "2023-09-27T14:11:06.121431Z",
          "shell.execute_reply": "2023-09-27T14:11:06.134465Z"
        },
        "trusted": true,
        "id": "kxQzLbIs2wDm"
      },
      "execution_count": null,
      "outputs": []
    },
    {
      "cell_type": "code",
      "source": [
        "df4['accident'].unique()"
      ],
      "metadata": {
        "execution": {
          "iopub.status.busy": "2023-09-27T14:11:07.761456Z",
          "iopub.execute_input": "2023-09-27T14:11:07.761833Z",
          "iopub.status.idle": "2023-09-27T14:11:07.768089Z",
          "shell.execute_reply.started": "2023-09-27T14:11:07.761801Z",
          "shell.execute_reply": "2023-09-27T14:11:07.767423Z"
        },
        "trusted": true,
        "id": "uxZnkfMR2wDm"
      },
      "execution_count": null,
      "outputs": []
    },
    {
      "cell_type": "code",
      "source": [
        "df4['accident'].value_counts()"
      ],
      "metadata": {
        "execution": {
          "iopub.status.busy": "2023-09-27T14:11:13.671272Z",
          "iopub.execute_input": "2023-09-27T14:11:13.671613Z",
          "iopub.status.idle": "2023-09-27T14:11:13.67935Z",
          "shell.execute_reply.started": "2023-09-27T14:11:13.671587Z",
          "shell.execute_reply": "2023-09-27T14:11:13.678438Z"
        },
        "trusted": true,
        "id": "K5y6l5PZ2wDm"
      },
      "execution_count": null,
      "outputs": []
    },
    {
      "cell_type": "code",
      "source": [
        "df4['accident'] = df4['accident'].str.replace('_','None reported')\n",
        "df4['accident'] = df4['accident'].str.replace('At least 1 accident or damage reported','reported')"
      ],
      "metadata": {
        "execution": {
          "iopub.status.busy": "2023-09-27T14:11:14.975153Z",
          "iopub.execute_input": "2023-09-27T14:11:14.975545Z",
          "iopub.status.idle": "2023-09-27T14:11:14.984648Z",
          "shell.execute_reply.started": "2023-09-27T14:11:14.975504Z",
          "shell.execute_reply": "2023-09-27T14:11:14.983557Z"
        },
        "trusted": true,
        "id": "AlrcON_m2wDm"
      },
      "execution_count": null,
      "outputs": []
    },
    {
      "cell_type": "code",
      "source": [
        "df4['accident'].value_counts()"
      ],
      "metadata": {
        "execution": {
          "iopub.status.busy": "2023-09-27T14:11:16.410869Z",
          "iopub.execute_input": "2023-09-27T14:11:16.411407Z",
          "iopub.status.idle": "2023-09-27T14:11:16.41977Z",
          "shell.execute_reply.started": "2023-09-27T14:11:16.411373Z",
          "shell.execute_reply": "2023-09-27T14:11:16.419012Z"
        },
        "trusted": true,
        "id": "ItZDb8Ka2wDm"
      },
      "execution_count": null,
      "outputs": []
    },
    {
      "cell_type": "code",
      "source": [
        "(df4 == '_').sum()"
      ],
      "metadata": {
        "execution": {
          "iopub.status.busy": "2023-09-27T14:11:17.005306Z",
          "iopub.execute_input": "2023-09-27T14:11:17.005954Z",
          "iopub.status.idle": "2023-09-27T14:11:17.017981Z",
          "shell.execute_reply.started": "2023-09-27T14:11:17.005916Z",
          "shell.execute_reply": "2023-09-27T14:11:17.017048Z"
        },
        "trusted": true,
        "id": "64UgoicW2wDm"
      },
      "execution_count": null,
      "outputs": []
    },
    {
      "cell_type": "code",
      "source": [
        "df4['clean_title'].unique()"
      ],
      "metadata": {
        "execution": {
          "iopub.status.busy": "2023-09-27T14:11:18.571739Z",
          "iopub.execute_input": "2023-09-27T14:11:18.572923Z",
          "iopub.status.idle": "2023-09-27T14:11:18.582457Z",
          "shell.execute_reply.started": "2023-09-27T14:11:18.572874Z",
          "shell.execute_reply": "2023-09-27T14:11:18.581275Z"
        },
        "trusted": true,
        "id": "A8WjBGAI2wDm"
      },
      "execution_count": null,
      "outputs": []
    },
    {
      "cell_type": "code",
      "source": [
        "df4['clean_title'].value_counts()"
      ],
      "metadata": {
        "execution": {
          "iopub.status.busy": "2023-09-27T14:11:19.68542Z",
          "iopub.execute_input": "2023-09-27T14:11:19.685876Z",
          "iopub.status.idle": "2023-09-27T14:11:19.694948Z",
          "shell.execute_reply.started": "2023-09-27T14:11:19.685835Z",
          "shell.execute_reply": "2023-09-27T14:11:19.693772Z"
        },
        "trusted": true,
        "id": "dW5JtExe2wDn"
      },
      "execution_count": null,
      "outputs": []
    },
    {
      "cell_type": "code",
      "source": [
        "#Only 'Yes' was given info in the clean title column so drop it\n",
        "df5 = df4.drop('clean_title' , axis = 'columns')\n",
        "df5.head()"
      ],
      "metadata": {
        "execution": {
          "iopub.status.busy": "2023-09-27T14:11:22.515614Z",
          "iopub.execute_input": "2023-09-27T14:11:22.515968Z",
          "iopub.status.idle": "2023-09-27T14:11:22.533907Z",
          "shell.execute_reply.started": "2023-09-27T14:11:22.515939Z",
          "shell.execute_reply": "2023-09-27T14:11:22.532931Z"
        },
        "trusted": true,
        "id": "cyF3W2FJ2wDn"
      },
      "execution_count": null,
      "outputs": []
    },
    {
      "cell_type": "code",
      "source": [
        "df5.head()"
      ],
      "metadata": {
        "execution": {
          "iopub.status.busy": "2023-09-27T14:11:30.997211Z",
          "iopub.execute_input": "2023-09-27T14:11:30.997957Z",
          "iopub.status.idle": "2023-09-27T14:11:31.01301Z",
          "shell.execute_reply.started": "2023-09-27T14:11:30.997913Z",
          "shell.execute_reply": "2023-09-27T14:11:31.011876Z"
        },
        "trusted": true,
        "id": "Oc2u5A6Y2wDn"
      },
      "execution_count": null,
      "outputs": []
    },
    {
      "cell_type": "code",
      "source": [
        "df5.nunique()"
      ],
      "metadata": {
        "execution": {
          "iopub.status.busy": "2023-09-27T14:11:32.432999Z",
          "iopub.execute_input": "2023-09-27T14:11:32.433374Z",
          "iopub.status.idle": "2023-09-27T14:11:32.449304Z",
          "shell.execute_reply.started": "2023-09-27T14:11:32.433341Z",
          "shell.execute_reply": "2023-09-27T14:11:32.448266Z"
        },
        "trusted": true,
        "id": "XpKLFGAJ2wDn"
      },
      "execution_count": null,
      "outputs": []
    },
    {
      "cell_type": "code",
      "source": [
        "age = 2023 - df5['model_year']\n",
        "df5.insert(2,'Age',age)"
      ],
      "metadata": {
        "execution": {
          "iopub.status.busy": "2023-09-27T14:11:33.810349Z",
          "iopub.execute_input": "2023-09-27T14:11:33.811004Z",
          "iopub.status.idle": "2023-09-27T14:11:33.81766Z",
          "shell.execute_reply.started": "2023-09-27T14:11:33.810972Z",
          "shell.execute_reply": "2023-09-27T14:11:33.816244Z"
        },
        "trusted": true,
        "id": "rQZB0OST2wDn"
      },
      "execution_count": null,
      "outputs": []
    },
    {
      "cell_type": "code",
      "source": [
        "df5.head()"
      ],
      "metadata": {
        "execution": {
          "iopub.status.busy": "2023-09-27T14:11:35.621404Z",
          "iopub.execute_input": "2023-09-27T14:11:35.622214Z",
          "iopub.status.idle": "2023-09-27T14:11:35.639676Z",
          "shell.execute_reply.started": "2023-09-27T14:11:35.622156Z",
          "shell.execute_reply": "2023-09-27T14:11:35.638687Z"
        },
        "trusted": true,
        "id": "LK9F9UP62wDn"
      },
      "execution_count": null,
      "outputs": []
    },
    {
      "cell_type": "code",
      "source": [
        "df6 = df5.drop('model_year' , axis = 'columns')\n",
        "df6.head()"
      ],
      "metadata": {
        "execution": {
          "iopub.status.busy": "2023-09-27T14:11:37.371291Z",
          "iopub.execute_input": "2023-09-27T14:11:37.371649Z",
          "iopub.status.idle": "2023-09-27T14:11:37.389182Z",
          "shell.execute_reply.started": "2023-09-27T14:11:37.371619Z",
          "shell.execute_reply": "2023-09-27T14:11:37.388254Z"
        },
        "trusted": true,
        "id": "3rnlbxR02wDn"
      },
      "execution_count": null,
      "outputs": []
    },
    {
      "cell_type": "code",
      "source": [
        "df6['milage'] = df6['milage'].str.replace(',','')"
      ],
      "metadata": {
        "execution": {
          "iopub.status.busy": "2023-09-27T14:11:39.044881Z",
          "iopub.execute_input": "2023-09-27T14:11:39.045253Z",
          "iopub.status.idle": "2023-09-27T14:11:39.052258Z",
          "shell.execute_reply.started": "2023-09-27T14:11:39.045221Z",
          "shell.execute_reply": "2023-09-27T14:11:39.051162Z"
        },
        "trusted": true,
        "id": "e0MrpeOo2wDn"
      },
      "execution_count": null,
      "outputs": []
    },
    {
      "cell_type": "code",
      "source": [
        "df6.head()"
      ],
      "metadata": {
        "execution": {
          "iopub.status.busy": "2023-09-27T14:11:40.377771Z",
          "iopub.execute_input": "2023-09-27T14:11:40.378995Z",
          "iopub.status.idle": "2023-09-27T14:11:40.395037Z",
          "shell.execute_reply.started": "2023-09-27T14:11:40.378946Z",
          "shell.execute_reply": "2023-09-27T14:11:40.394056Z"
        },
        "trusted": true,
        "id": "FIk9u8rP2wDn"
      },
      "execution_count": null,
      "outputs": []
    },
    {
      "cell_type": "code",
      "source": [
        "k = '9835 mi.'\n",
        "int(k.split(' ')[0])"
      ],
      "metadata": {
        "execution": {
          "iopub.status.busy": "2023-09-27T14:11:42.316749Z",
          "iopub.execute_input": "2023-09-27T14:11:42.317102Z",
          "iopub.status.idle": "2023-09-27T14:11:42.323771Z",
          "shell.execute_reply.started": "2023-09-27T14:11:42.317072Z",
          "shell.execute_reply": "2023-09-27T14:11:42.322748Z"
        },
        "trusted": true,
        "id": "lowdxolS2wDo"
      },
      "execution_count": null,
      "outputs": []
    },
    {
      "cell_type": "code",
      "source": [
        "df6['milage'] = df6['milage'].apply(lambda x : int(x.split(' ')[0]))"
      ],
      "metadata": {
        "execution": {
          "iopub.status.busy": "2023-09-27T14:11:43.759222Z",
          "iopub.execute_input": "2023-09-27T14:11:43.75961Z",
          "iopub.status.idle": "2023-09-27T14:11:43.767971Z",
          "shell.execute_reply.started": "2023-09-27T14:11:43.759579Z",
          "shell.execute_reply": "2023-09-27T14:11:43.76678Z"
        },
        "trusted": true,
        "id": "x7q8QcL62wDo"
      },
      "execution_count": null,
      "outputs": []
    },
    {
      "cell_type": "code",
      "source": [
        "df6.head()"
      ],
      "metadata": {
        "execution": {
          "iopub.status.busy": "2023-09-27T14:11:44.472029Z",
          "iopub.execute_input": "2023-09-27T14:11:44.472718Z",
          "iopub.status.idle": "2023-09-27T14:11:44.48636Z",
          "shell.execute_reply.started": "2023-09-27T14:11:44.472682Z",
          "shell.execute_reply": "2023-09-27T14:11:44.485095Z"
        },
        "trusted": true,
        "id": "NIyHmDmH2wDo"
      },
      "execution_count": null,
      "outputs": []
    },
    {
      "cell_type": "code",
      "source": [
        "df6.dtypes"
      ],
      "metadata": {
        "execution": {
          "iopub.status.busy": "2023-09-27T14:11:45.953472Z",
          "iopub.execute_input": "2023-09-27T14:11:45.953847Z",
          "iopub.status.idle": "2023-09-27T14:11:45.961886Z",
          "shell.execute_reply.started": "2023-09-27T14:11:45.953812Z",
          "shell.execute_reply": "2023-09-27T14:11:45.960725Z"
        },
        "trusted": true,
        "id": "vxt6-2or2wDo"
      },
      "execution_count": null,
      "outputs": []
    },
    {
      "cell_type": "code",
      "source": [
        "df6['price'] = df6['price'].str.replace('$','').str.replace(',','').astype(float)"
      ],
      "metadata": {
        "execution": {
          "iopub.status.busy": "2023-09-27T14:11:47.358162Z",
          "iopub.execute_input": "2023-09-27T14:11:47.358569Z",
          "iopub.status.idle": "2023-09-27T14:11:47.369222Z",
          "shell.execute_reply.started": "2023-09-27T14:11:47.358535Z",
          "shell.execute_reply": "2023-09-27T14:11:47.367942Z"
        },
        "trusted": true,
        "id": "MI9fU8bt2wDo"
      },
      "execution_count": null,
      "outputs": []
    },
    {
      "cell_type": "code",
      "source": [
        "df6.head()"
      ],
      "metadata": {
        "execution": {
          "iopub.status.busy": "2023-09-27T14:11:48.717692Z",
          "iopub.execute_input": "2023-09-27T14:11:48.718064Z",
          "iopub.status.idle": "2023-09-27T14:11:48.732214Z",
          "shell.execute_reply.started": "2023-09-27T14:11:48.71803Z",
          "shell.execute_reply": "2023-09-27T14:11:48.731239Z"
        },
        "trusted": true,
        "id": "7YEGNFmM2wDo"
      },
      "execution_count": null,
      "outputs": []
    },
    {
      "cell_type": "code",
      "source": [
        "df6.dtypes"
      ],
      "metadata": {
        "execution": {
          "iopub.status.busy": "2023-09-27T14:11:49.064683Z",
          "iopub.execute_input": "2023-09-27T14:11:49.065063Z",
          "iopub.status.idle": "2023-09-27T14:11:49.072448Z",
          "shell.execute_reply.started": "2023-09-27T14:11:49.065028Z",
          "shell.execute_reply": "2023-09-27T14:11:49.071473Z"
        },
        "trusted": true,
        "id": "mor-5wdb2wDo"
      },
      "execution_count": null,
      "outputs": []
    },
    {
      "cell_type": "code",
      "source": [
        "df6.nunique()"
      ],
      "metadata": {
        "execution": {
          "iopub.status.busy": "2023-09-27T14:11:50.74841Z",
          "iopub.execute_input": "2023-09-27T14:11:50.748782Z",
          "iopub.status.idle": "2023-09-27T14:11:50.762346Z",
          "shell.execute_reply.started": "2023-09-27T14:11:50.748753Z",
          "shell.execute_reply": "2023-09-27T14:11:50.761269Z"
        },
        "trusted": true,
        "id": "pybjVHTP2wDo"
      },
      "execution_count": null,
      "outputs": []
    },
    {
      "cell_type": "code",
      "source": [
        "df6['model'].value_counts()"
      ],
      "metadata": {
        "execution": {
          "iopub.status.busy": "2023-09-27T14:11:52.626176Z",
          "iopub.execute_input": "2023-09-27T14:11:52.626553Z",
          "iopub.status.idle": "2023-09-27T14:11:52.635738Z",
          "shell.execute_reply.started": "2023-09-27T14:11:52.626523Z",
          "shell.execute_reply": "2023-09-27T14:11:52.634733Z"
        },
        "trusted": true,
        "id": "DM9FsVDh2wDo"
      },
      "execution_count": null,
      "outputs": []
    },
    {
      "cell_type": "code",
      "source": [
        "df6['engine'].value_counts().head(10)"
      ],
      "metadata": {
        "execution": {
          "iopub.status.busy": "2023-09-27T14:11:55.080192Z",
          "iopub.execute_input": "2023-09-27T14:11:55.081231Z",
          "iopub.status.idle": "2023-09-27T14:11:55.089945Z",
          "shell.execute_reply.started": "2023-09-27T14:11:55.08118Z",
          "shell.execute_reply": "2023-09-27T14:11:55.088912Z"
        },
        "trusted": true,
        "id": "Vm_WC3Tk2wDo"
      },
      "execution_count": null,
      "outputs": []
    },
    {
      "cell_type": "code",
      "source": [
        "hp = df6['engine'].apply(lambda x : x.split('HP')[0]).apply(pd.to_numeric, errors='coerce')"
      ],
      "metadata": {
        "execution": {
          "iopub.status.busy": "2023-09-27T14:11:59.761304Z",
          "iopub.execute_input": "2023-09-27T14:11:59.761669Z",
          "iopub.status.idle": "2023-09-27T14:11:59.817344Z",
          "shell.execute_reply.started": "2023-09-27T14:11:59.761637Z",
          "shell.execute_reply": "2023-09-27T14:11:59.816102Z"
        },
        "trusted": true,
        "id": "WOmaIvsr2wDo"
      },
      "execution_count": null,
      "outputs": []
    },
    {
      "cell_type": "code",
      "source": [
        "litres = df6['engine'].apply(lambda x : x.split('L')[0].split(' ')[-1]).apply(pd.to_numeric, errors='coerce')"
      ],
      "metadata": {
        "execution": {
          "iopub.status.busy": "2023-09-27T14:12:00.531994Z",
          "iopub.execute_input": "2023-09-27T14:12:00.532934Z",
          "iopub.status.idle": "2023-09-27T14:12:00.590334Z",
          "shell.execute_reply.started": "2023-09-27T14:12:00.532897Z",
          "shell.execute_reply": "2023-09-27T14:12:00.589218Z"
        },
        "trusted": true,
        "id": "TsoecBfc2wDp"
      },
      "execution_count": null,
      "outputs": []
    },
    {
      "cell_type": "code",
      "source": [
        "df6.insert(6,\"HP\",hp)\n",
        "df6.insert(7,\"Liters\",litres)"
      ],
      "metadata": {
        "execution": {
          "iopub.status.busy": "2023-09-27T14:12:02.165608Z",
          "iopub.execute_input": "2023-09-27T14:12:02.166674Z",
          "iopub.status.idle": "2023-09-27T14:12:02.171661Z",
          "shell.execute_reply.started": "2023-09-27T14:12:02.166633Z",
          "shell.execute_reply": "2023-09-27T14:12:02.170677Z"
        },
        "trusted": true,
        "id": "Ea4XovWs2wDp"
      },
      "execution_count": null,
      "outputs": []
    },
    {
      "cell_type": "code",
      "source": [
        "df6.head()"
      ],
      "metadata": {
        "execution": {
          "iopub.status.busy": "2023-09-27T14:12:03.577563Z",
          "iopub.execute_input": "2023-09-27T14:12:03.577939Z",
          "iopub.status.idle": "2023-09-27T14:12:03.596027Z",
          "shell.execute_reply.started": "2023-09-27T14:12:03.577903Z",
          "shell.execute_reply": "2023-09-27T14:12:03.595071Z"
        },
        "trusted": true,
        "id": "2PZsVoHj2wDp"
      },
      "execution_count": null,
      "outputs": []
    },
    {
      "cell_type": "code",
      "source": [
        "df7 = df6.drop(['model','engine'], axis = 'columns')\n",
        "df7.head()"
      ],
      "metadata": {
        "execution": {
          "iopub.status.busy": "2023-09-27T14:12:10.750566Z",
          "iopub.execute_input": "2023-09-27T14:12:10.750932Z",
          "iopub.status.idle": "2023-09-27T14:12:10.769054Z",
          "shell.execute_reply.started": "2023-09-27T14:12:10.750897Z",
          "shell.execute_reply": "2023-09-27T14:12:10.768106Z"
        },
        "trusted": true,
        "id": "NxzgRuLC2wDp"
      },
      "execution_count": null,
      "outputs": []
    },
    {
      "cell_type": "code",
      "source": [
        "df7.isnull().sum()"
      ],
      "metadata": {
        "execution": {
          "iopub.status.busy": "2023-09-24T13:25:42.601746Z",
          "iopub.execute_input": "2023-09-24T13:25:42.602202Z",
          "iopub.status.idle": "2023-09-24T13:25:42.615954Z",
          "shell.execute_reply.started": "2023-09-24T13:25:42.602169Z",
          "shell.execute_reply": "2023-09-24T13:25:42.614982Z"
        },
        "trusted": true,
        "id": "Yv9SsaRW2wDp"
      },
      "execution_count": null,
      "outputs": []
    },
    {
      "cell_type": "code",
      "source": [
        "hp_mean = round(df7.groupby('brand')['HP'].mean(),2)\n",
        "hp_mean"
      ],
      "metadata": {
        "execution": {
          "iopub.status.busy": "2023-09-27T14:12:53.6037Z",
          "iopub.execute_input": "2023-09-27T14:12:53.604065Z",
          "iopub.status.idle": "2023-09-27T14:12:53.618145Z",
          "shell.execute_reply.started": "2023-09-27T14:12:53.604032Z",
          "shell.execute_reply": "2023-09-27T14:12:53.61741Z"
        },
        "trusted": true,
        "id": "4ZvUchs-2wDp"
      },
      "execution_count": null,
      "outputs": []
    },
    {
      "cell_type": "code",
      "source": [
        "hp_mean['Mazda']"
      ],
      "metadata": {
        "execution": {
          "iopub.status.busy": "2023-09-27T14:20:03.773244Z",
          "iopub.execute_input": "2023-09-27T14:20:03.773601Z",
          "iopub.status.idle": "2023-09-27T14:20:03.78109Z",
          "shell.execute_reply.started": "2023-09-27T14:20:03.773571Z",
          "shell.execute_reply": "2023-09-27T14:20:03.779875Z"
        },
        "trusted": true,
        "id": "u3gUS4yI2wDp"
      },
      "execution_count": null,
      "outputs": []
    },
    {
      "cell_type": "code",
      "source": [
        "#filter the car into two parts- with missing HP & non-missing HP\n",
        "df7_hp0 = df7[df7['HP'].isnull()]\n",
        "df7_hp1 = df7[~df7['HP'].isnull()]"
      ],
      "metadata": {
        "execution": {
          "iopub.status.busy": "2023-09-27T14:15:33.155042Z",
          "iopub.execute_input": "2023-09-27T14:15:33.155417Z",
          "iopub.status.idle": "2023-09-27T14:15:33.163042Z",
          "shell.execute_reply.started": "2023-09-27T14:15:33.155386Z",
          "shell.execute_reply": "2023-09-27T14:15:33.161989Z"
        },
        "trusted": true,
        "id": "_EHSB_ts2wDp"
      },
      "execution_count": null,
      "outputs": []
    },
    {
      "cell_type": "code",
      "source": [
        "df7_hp0['HP'] = df7_hp0['brand'].apply(lambda x: hp_mean[x])"
      ],
      "metadata": {
        "execution": {
          "iopub.status.busy": "2023-09-27T14:16:45.75989Z",
          "iopub.execute_input": "2023-09-27T14:16:45.760253Z",
          "iopub.status.idle": "2023-09-27T14:16:45.769095Z",
          "shell.execute_reply.started": "2023-09-27T14:16:45.760223Z",
          "shell.execute_reply": "2023-09-27T14:16:45.76837Z"
        },
        "trusted": true,
        "id": "D4GgM6i72wDp"
      },
      "execution_count": null,
      "outputs": []
    },
    {
      "cell_type": "code",
      "source": [
        "df8 = pd.concat((df7_hp0,df7_hp1),axis='rows',ignore_index = True)\n",
        "df8.head()"
      ],
      "metadata": {
        "execution": {
          "iopub.status.busy": "2023-09-27T14:17:35.387164Z",
          "iopub.execute_input": "2023-09-27T14:17:35.387573Z",
          "iopub.status.idle": "2023-09-27T14:17:35.404647Z",
          "shell.execute_reply.started": "2023-09-27T14:17:35.387539Z",
          "shell.execute_reply": "2023-09-27T14:17:35.40368Z"
        },
        "trusted": true,
        "id": "iB-FKIrJ2wDp"
      },
      "execution_count": null,
      "outputs": []
    },
    {
      "cell_type": "code",
      "source": [
        "df8.isnull().sum()"
      ],
      "metadata": {
        "execution": {
          "iopub.status.busy": "2023-09-27T14:17:44.743341Z",
          "iopub.execute_input": "2023-09-27T14:17:44.743747Z",
          "iopub.status.idle": "2023-09-27T14:17:44.754994Z",
          "shell.execute_reply.started": "2023-09-27T14:17:44.743711Z",
          "shell.execute_reply": "2023-09-27T14:17:44.754033Z"
        },
        "trusted": true,
        "id": "quqL17tG2wDq"
      },
      "execution_count": null,
      "outputs": []
    },
    {
      "cell_type": "code",
      "source": [
        "liters_mean = round(df8.groupby('brand')['Liters'].mean(),1)\n",
        "liters_mean"
      ],
      "metadata": {
        "execution": {
          "iopub.status.busy": "2023-09-27T14:21:29.398605Z",
          "iopub.execute_input": "2023-09-27T14:21:29.399599Z",
          "iopub.status.idle": "2023-09-27T14:21:29.409367Z",
          "shell.execute_reply.started": "2023-09-27T14:21:29.399562Z",
          "shell.execute_reply": "2023-09-27T14:21:29.40823Z"
        },
        "trusted": true,
        "id": "ODmFCVfR2wDq"
      },
      "execution_count": null,
      "outputs": []
    },
    {
      "cell_type": "code",
      "source": [
        "liters_mean['Volvo']"
      ],
      "metadata": {
        "execution": {
          "iopub.status.busy": "2023-09-27T14:21:55.562971Z",
          "iopub.execute_input": "2023-09-27T14:21:55.563617Z",
          "iopub.status.idle": "2023-09-27T14:21:55.570101Z",
          "shell.execute_reply.started": "2023-09-27T14:21:55.563573Z",
          "shell.execute_reply": "2023-09-27T14:21:55.569044Z"
        },
        "trusted": true,
        "id": "-q7QGxq52wDq"
      },
      "execution_count": null,
      "outputs": []
    },
    {
      "cell_type": "code",
      "source": [
        "#Seperate data into two parts => with missing values of liters & non missing values of liters\n",
        "df8_lit0 = df8[df8['Liters'].isnull()]\n",
        "df8_lit1 = df8[~df8['Liters'].isnull()]"
      ],
      "metadata": {
        "execution": {
          "iopub.status.busy": "2023-09-27T16:01:03.904607Z",
          "iopub.execute_input": "2023-09-27T16:01:03.905046Z",
          "iopub.status.idle": "2023-09-27T16:01:03.91344Z",
          "shell.execute_reply.started": "2023-09-27T16:01:03.905002Z",
          "shell.execute_reply": "2023-09-27T16:01:03.912527Z"
        },
        "trusted": true,
        "id": "YN9CtqfJ2wDq"
      },
      "execution_count": null,
      "outputs": []
    },
    {
      "cell_type": "code",
      "source": [
        "def fix_missing_liters(brand):\n",
        "    return liters_mean[brand]"
      ],
      "metadata": {
        "execution": {
          "iopub.status.busy": "2023-09-27T16:00:21.010711Z",
          "iopub.execute_input": "2023-09-27T16:00:21.01113Z",
          "iopub.status.idle": "2023-09-27T16:00:21.017266Z",
          "shell.execute_reply.started": "2023-09-27T16:00:21.011094Z",
          "shell.execute_reply": "2023-09-27T16:00:21.015752Z"
        },
        "trusted": true,
        "id": "S0t_d_W02wDq"
      },
      "execution_count": null,
      "outputs": []
    },
    {
      "cell_type": "code",
      "source": [
        "fix_missing_liters('Porsche')"
      ],
      "metadata": {
        "execution": {
          "iopub.status.busy": "2023-09-27T16:00:35.324624Z",
          "iopub.execute_input": "2023-09-27T16:00:35.325018Z",
          "iopub.status.idle": "2023-09-27T16:00:35.332415Z",
          "shell.execute_reply.started": "2023-09-27T16:00:35.324985Z",
          "shell.execute_reply": "2023-09-27T16:00:35.331082Z"
        },
        "trusted": true,
        "id": "zkGMWIDn2wDq"
      },
      "execution_count": null,
      "outputs": []
    },
    {
      "cell_type": "code",
      "source": [
        "df8_lit0.head()"
      ],
      "metadata": {
        "execution": {
          "iopub.status.busy": "2023-09-27T16:01:14.956088Z",
          "iopub.execute_input": "2023-09-27T16:01:14.956481Z",
          "iopub.status.idle": "2023-09-27T16:01:14.972676Z",
          "shell.execute_reply.started": "2023-09-27T16:01:14.95645Z",
          "shell.execute_reply": "2023-09-27T16:01:14.971591Z"
        },
        "trusted": true,
        "id": "4ogsoBED2wDq"
      },
      "execution_count": null,
      "outputs": []
    },
    {
      "cell_type": "code",
      "source": [
        "df8_lit0['Liters'] = df8_lit0['brand'].apply(fix_missing_liters)"
      ],
      "metadata": {
        "execution": {
          "iopub.status.busy": "2023-09-27T16:02:48.020255Z",
          "iopub.execute_input": "2023-09-27T16:02:48.020679Z",
          "iopub.status.idle": "2023-09-27T16:02:48.029009Z",
          "shell.execute_reply.started": "2023-09-27T16:02:48.020643Z",
          "shell.execute_reply": "2023-09-27T16:02:48.027059Z"
        },
        "trusted": true,
        "id": "wnXZY4j92wDq"
      },
      "execution_count": null,
      "outputs": []
    },
    {
      "cell_type": "code",
      "source": [
        "#df8_lit0['Liters'] = df8_lit0['brand'].apply(lambda x : liters_mean[x])"
      ],
      "metadata": {
        "execution": {
          "iopub.status.busy": "2023-09-27T16:03:38.584446Z",
          "iopub.execute_input": "2023-09-27T16:03:38.585274Z",
          "iopub.status.idle": "2023-09-27T16:03:38.58939Z",
          "shell.execute_reply.started": "2023-09-27T16:03:38.585185Z",
          "shell.execute_reply": "2023-09-27T16:03:38.588615Z"
        },
        "trusted": true,
        "id": "MXpFI_vX2wDq"
      },
      "execution_count": null,
      "outputs": []
    },
    {
      "cell_type": "code",
      "source": [
        "df9 = pd.concat((df8_lit1,df8_lit0) , axis = 'rows' , ignore_index = True)\n",
        "df9.head()"
      ],
      "metadata": {
        "execution": {
          "iopub.status.busy": "2023-09-27T16:03:43.002966Z",
          "iopub.execute_input": "2023-09-27T16:03:43.00339Z",
          "iopub.status.idle": "2023-09-27T16:03:43.020548Z",
          "shell.execute_reply.started": "2023-09-27T16:03:43.003353Z",
          "shell.execute_reply": "2023-09-27T16:03:43.019412Z"
        },
        "trusted": true,
        "id": "8C81ncuA2wDq"
      },
      "execution_count": null,
      "outputs": []
    },
    {
      "cell_type": "markdown",
      "source": [
        "**Label Encoding**"
      ],
      "metadata": {
        "id": "EAWbTFhQ2wDq"
      }
    },
    {
      "cell_type": "code",
      "source": [
        "df10 = df9.copy()"
      ],
      "metadata": {
        "execution": {
          "iopub.status.busy": "2023-09-27T14:25:29.390117Z",
          "iopub.execute_input": "2023-09-27T14:25:29.3905Z",
          "iopub.status.idle": "2023-09-27T14:25:29.3968Z",
          "shell.execute_reply.started": "2023-09-27T14:25:29.390471Z",
          "shell.execute_reply": "2023-09-27T14:25:29.395871Z"
        },
        "trusted": true,
        "id": "YQRSYXuh2wDr"
      },
      "execution_count": null,
      "outputs": []
    },
    {
      "cell_type": "code",
      "source": [
        "df10.head()"
      ],
      "metadata": {
        "execution": {
          "iopub.status.busy": "2023-09-27T14:25:33.72797Z",
          "iopub.execute_input": "2023-09-27T14:25:33.728394Z",
          "iopub.status.idle": "2023-09-27T14:25:33.745317Z",
          "shell.execute_reply.started": "2023-09-27T14:25:33.72835Z",
          "shell.execute_reply": "2023-09-27T14:25:33.74419Z"
        },
        "trusted": true,
        "id": "Jw64ssKu2wDr"
      },
      "execution_count": null,
      "outputs": []
    },
    {
      "cell_type": "code",
      "source": [
        "from sklearn.preprocessing import LabelEncoder\n",
        "le = LabelEncoder()\n",
        "\n",
        "df10['brand'] = le.fit_transform(df10['brand'])\n",
        "df10['fuel_type'] = le.fit_transform(df10['fuel_type'])\n",
        "df10['transmission'] = le.fit_transform(df10['transmission'])\n",
        "df10['ext_col'] = le.fit_transform(df10['ext_col'])\n",
        "df10['int_col'] = le.fit_transform(df10['int_col'])\n",
        "df10['accident'] = le.fit_transform(df10['accident'])"
      ],
      "metadata": {
        "execution": {
          "iopub.status.busy": "2023-09-27T14:26:14.829058Z",
          "iopub.execute_input": "2023-09-27T14:26:14.829486Z",
          "iopub.status.idle": "2023-09-27T14:26:15.303521Z",
          "shell.execute_reply.started": "2023-09-27T14:26:14.829449Z",
          "shell.execute_reply": "2023-09-27T14:26:15.302617Z"
        },
        "trusted": true,
        "id": "z8sSiEmb2wDr"
      },
      "execution_count": null,
      "outputs": []
    },
    {
      "cell_type": "code",
      "source": [
        "df10.head()"
      ],
      "metadata": {
        "execution": {
          "iopub.status.busy": "2023-09-27T14:26:20.374512Z",
          "iopub.execute_input": "2023-09-27T14:26:20.374875Z",
          "iopub.status.idle": "2023-09-27T14:26:20.389356Z",
          "shell.execute_reply.started": "2023-09-27T14:26:20.374848Z",
          "shell.execute_reply": "2023-09-27T14:26:20.388277Z"
        },
        "trusted": true,
        "id": "eUJrl_ly2wDr"
      },
      "execution_count": null,
      "outputs": []
    },
    {
      "cell_type": "code",
      "source": [
        "df10['milage'].hist()"
      ],
      "metadata": {
        "execution": {
          "iopub.status.busy": "2023-09-27T14:26:24.744407Z",
          "iopub.execute_input": "2023-09-27T14:26:24.744902Z",
          "iopub.status.idle": "2023-09-27T14:26:25.090369Z",
          "shell.execute_reply.started": "2023-09-27T14:26:24.744859Z",
          "shell.execute_reply": "2023-09-27T14:26:25.089264Z"
        },
        "trusted": true,
        "id": "QVkCv9px2wDr"
      },
      "execution_count": null,
      "outputs": []
    },
    {
      "cell_type": "code",
      "source": [
        "import seaborn as sns\n",
        "sns.pairplot(df10[['Age','milage','accident','HP','Liters','price']])"
      ],
      "metadata": {
        "execution": {
          "iopub.status.busy": "2023-09-27T14:27:03.521729Z",
          "iopub.execute_input": "2023-09-27T14:27:03.522375Z",
          "iopub.status.idle": "2023-09-27T14:27:15.952102Z",
          "shell.execute_reply.started": "2023-09-27T14:27:03.522338Z",
          "shell.execute_reply": "2023-09-27T14:27:15.951272Z"
        },
        "trusted": true,
        "id": "vCgWnKg12wDr"
      },
      "execution_count": null,
      "outputs": []
    },
    {
      "cell_type": "code",
      "source": [
        "df10.corr()"
      ],
      "metadata": {
        "execution": {
          "iopub.status.busy": "2023-09-27T14:27:24.805539Z",
          "iopub.execute_input": "2023-09-27T14:27:24.805935Z",
          "iopub.status.idle": "2023-09-27T14:27:24.825931Z",
          "shell.execute_reply.started": "2023-09-27T14:27:24.805895Z",
          "shell.execute_reply": "2023-09-27T14:27:24.82488Z"
        },
        "trusted": true,
        "id": "TZDHAU_n2wDr"
      },
      "execution_count": null,
      "outputs": []
    },
    {
      "cell_type": "code",
      "source": [
        "X = df10.drop('price',axis='columns')\n",
        "Y = df10['price']"
      ],
      "metadata": {
        "execution": {
          "iopub.status.busy": "2023-09-27T14:27:45.970633Z",
          "iopub.execute_input": "2023-09-27T14:27:45.971037Z",
          "iopub.status.idle": "2023-09-27T14:27:45.977557Z",
          "shell.execute_reply.started": "2023-09-27T14:27:45.971005Z",
          "shell.execute_reply": "2023-09-27T14:27:45.976525Z"
        },
        "trusted": true,
        "id": "T2Ky9Yag2wDr"
      },
      "execution_count": null,
      "outputs": []
    },
    {
      "cell_type": "code",
      "source": [
        "Y.hist()"
      ],
      "metadata": {
        "execution": {
          "iopub.status.busy": "2023-09-27T14:27:48.582929Z",
          "iopub.execute_input": "2023-09-27T14:27:48.583345Z",
          "iopub.status.idle": "2023-09-27T14:27:48.853945Z",
          "shell.execute_reply.started": "2023-09-27T14:27:48.583303Z",
          "shell.execute_reply": "2023-09-27T14:27:48.852829Z"
        },
        "trusted": true,
        "id": "MokpMnih2wDr"
      },
      "execution_count": null,
      "outputs": []
    },
    {
      "cell_type": "code",
      "source": [
        "np.log(Y).hist()"
      ],
      "metadata": {
        "execution": {
          "iopub.status.busy": "2023-09-27T14:27:52.702651Z",
          "iopub.execute_input": "2023-09-27T14:27:52.703034Z",
          "iopub.status.idle": "2023-09-27T14:27:52.922253Z",
          "shell.execute_reply.started": "2023-09-27T14:27:52.703001Z",
          "shell.execute_reply": "2023-09-27T14:27:52.921276Z"
        },
        "trusted": true,
        "id": "SqWiF96x2wDr"
      },
      "execution_count": null,
      "outputs": []
    },
    {
      "cell_type": "code",
      "source": [
        "from sklearn.model_selection import train_test_split\n",
        "from sklearn.linear_model import LinearRegression\n",
        "\n",
        "xtrain,xtest,ytrain,ytest = train_test_split(X,Y)\n",
        "model0 = LinearRegression()\n",
        "\n",
        "model0.fit(xtrain,ytrain)\n",
        "\n",
        "from sklearn.metrics import mean_absolute_error,r2_score\n",
        "\n",
        "ytrainP = model0.predict(xtrain)\n",
        "ytestP = model0.predict(xtest)\n",
        "\n",
        "maeTrain = mean_absolute_error(ytrain,ytrainP)\n",
        "maeTest = mean_absolute_error(ytest,ytestP)\n",
        "\n",
        "r2Train = r2_score(ytrain,ytrainP)\n",
        "r2Test = r2_score(ytest,ytestP)\n",
        "\n",
        "print({\"MAE_Train\" : maeTrain , \"MAE_Test\" : maeTest})\n",
        "print({\"R2_Train\" : r2Train , \"R2_Test\" : r2Test})"
      ],
      "metadata": {
        "execution": {
          "iopub.status.busy": "2023-09-27T14:28:01.024913Z",
          "iopub.execute_input": "2023-09-27T14:28:01.025304Z",
          "iopub.status.idle": "2023-09-27T14:28:01.242742Z",
          "shell.execute_reply.started": "2023-09-27T14:28:01.025271Z",
          "shell.execute_reply": "2023-09-27T14:28:01.241411Z"
        },
        "trusted": true,
        "id": "oqXc6tm82wDs"
      },
      "execution_count": null,
      "outputs": []
    },
    {
      "cell_type": "code",
      "source": [
        "#Log transformation of target Y => to get a Normal distributed target value\n",
        "Yt = np.log(Y)"
      ],
      "metadata": {
        "execution": {
          "iopub.status.busy": "2023-09-27T14:28:06.028634Z",
          "iopub.execute_input": "2023-09-27T14:28:06.028992Z",
          "iopub.status.idle": "2023-09-27T14:28:06.034327Z",
          "shell.execute_reply.started": "2023-09-27T14:28:06.028964Z",
          "shell.execute_reply": "2023-09-27T14:28:06.033271Z"
        },
        "trusted": true,
        "id": "JDjFo1yf2wDs"
      },
      "execution_count": null,
      "outputs": []
    },
    {
      "cell_type": "code",
      "source": [
        "from sklearn.model_selection import train_test_split\n",
        "from sklearn.linear_model import LinearRegression\n",
        "\n",
        "xtrain,xtest,ytrain,ytest = train_test_split(X,Yt)\n",
        "model1 = LinearRegression()\n",
        "\n",
        "model1.fit(xtrain,ytrain)"
      ],
      "metadata": {
        "execution": {
          "iopub.status.busy": "2023-09-27T14:28:07.635181Z",
          "iopub.execute_input": "2023-09-27T14:28:07.635599Z",
          "iopub.status.idle": "2023-09-27T14:28:07.661516Z",
          "shell.execute_reply.started": "2023-09-27T14:28:07.635565Z",
          "shell.execute_reply": "2023-09-27T14:28:07.658778Z"
        },
        "trusted": true,
        "id": "JLphgq2m2wDs"
      },
      "execution_count": null,
      "outputs": []
    },
    {
      "cell_type": "code",
      "source": [
        "from sklearn.metrics import mean_absolute_error,r2_score\n",
        "\n",
        "ytrainP = model1.predict(xtrain)\n",
        "ytestP = model1.predict(xtest)\n",
        "\n",
        "maeTrain = mean_absolute_error(ytrain,ytrainP)\n",
        "maeTest = mean_absolute_error(ytest,ytestP)\n",
        "\n",
        "r2Train = r2_score(ytrain,ytrainP)\n",
        "r2Test = r2_score(ytest,ytestP)\n",
        "\n",
        "print({\"MAE_Train\" : maeTrain , \"MAE_Test\" : maeTest})\n",
        "print({\"R2_Train\" : r2Train , \"R2_Test\" : r2Test})"
      ],
      "metadata": {
        "execution": {
          "iopub.status.busy": "2023-09-27T14:28:14.329013Z",
          "iopub.execute_input": "2023-09-27T14:28:14.33018Z",
          "iopub.status.idle": "2023-09-27T14:28:14.34657Z",
          "shell.execute_reply.started": "2023-09-27T14:28:14.330131Z",
          "shell.execute_reply": "2023-09-27T14:28:14.345293Z"
        },
        "trusted": true,
        "id": "NHhezUM12wDs"
      },
      "execution_count": null,
      "outputs": []
    },
    {
      "cell_type": "markdown",
      "source": [
        "**One Hot Encoding**"
      ],
      "metadata": {
        "id": "eV_GAT4-2wDs"
      }
    },
    {
      "cell_type": "code",
      "source": [
        "df11 = df9.copy()"
      ],
      "metadata": {
        "execution": {
          "iopub.status.busy": "2023-09-27T15:20:05.729853Z",
          "iopub.execute_input": "2023-09-27T15:20:05.730295Z",
          "iopub.status.idle": "2023-09-27T15:20:05.73711Z",
          "shell.execute_reply.started": "2023-09-27T15:20:05.730259Z",
          "shell.execute_reply": "2023-09-27T15:20:05.735918Z"
        },
        "trusted": true,
        "id": "M-J7uHAZ2wDs"
      },
      "execution_count": null,
      "outputs": []
    },
    {
      "cell_type": "code",
      "source": [
        "df11.head()"
      ],
      "metadata": {
        "execution": {
          "iopub.status.busy": "2023-09-27T15:20:06.29576Z",
          "iopub.execute_input": "2023-09-27T15:20:06.296171Z",
          "iopub.status.idle": "2023-09-27T15:20:06.314279Z",
          "shell.execute_reply.started": "2023-09-27T15:20:06.296137Z",
          "shell.execute_reply": "2023-09-27T15:20:06.31313Z"
        },
        "trusted": true,
        "id": "ey1fY_YQ2wDs"
      },
      "execution_count": null,
      "outputs": []
    },
    {
      "cell_type": "code",
      "source": [
        "#Using feature Intersaction\n",
        "#hpl = df11['HP'] * df11['Liters']\n",
        "#df11.insert(6,\"HPL\",hpl)\n",
        "\n",
        "#aml = df11['Age'] * df11['milage']\n",
        "#df11.insert(3,\"AML\",aml)"
      ],
      "metadata": {
        "execution": {
          "iopub.status.busy": "2023-09-27T15:20:10.797396Z",
          "iopub.execute_input": "2023-09-27T15:20:10.797778Z",
          "iopub.status.idle": "2023-09-27T15:20:10.8029Z",
          "shell.execute_reply.started": "2023-09-27T15:20:10.797746Z",
          "shell.execute_reply": "2023-09-27T15:20:10.801682Z"
        },
        "trusted": true,
        "id": "OVUeZfj-2wDs"
      },
      "execution_count": null,
      "outputs": []
    },
    {
      "cell_type": "code",
      "source": [
        "df11.head()"
      ],
      "metadata": {
        "execution": {
          "iopub.status.busy": "2023-09-27T15:20:12.835237Z",
          "iopub.execute_input": "2023-09-27T15:20:12.835629Z",
          "iopub.status.idle": "2023-09-27T15:20:12.853045Z",
          "shell.execute_reply.started": "2023-09-27T15:20:12.835598Z",
          "shell.execute_reply": "2023-09-27T15:20:12.851937Z"
        },
        "trusted": true,
        "id": "bxzTcP6s2wDs"
      },
      "execution_count": null,
      "outputs": []
    },
    {
      "cell_type": "code",
      "source": [
        "df11.columns"
      ],
      "metadata": {
        "execution": {
          "iopub.status.busy": "2023-09-27T15:20:16.265172Z",
          "iopub.execute_input": "2023-09-27T15:20:16.265579Z",
          "iopub.status.idle": "2023-09-27T15:20:16.272696Z",
          "shell.execute_reply.started": "2023-09-27T15:20:16.265546Z",
          "shell.execute_reply": "2023-09-27T15:20:16.271492Z"
        },
        "trusted": true,
        "id": "kQiYjWld2wDs"
      },
      "execution_count": null,
      "outputs": []
    },
    {
      "cell_type": "code",
      "source": [
        "df11[['Age','milage','HP', 'Liters','price']].corr()"
      ],
      "metadata": {
        "execution": {
          "iopub.status.busy": "2023-09-27T15:20:28.973643Z",
          "iopub.execute_input": "2023-09-27T15:20:28.974396Z",
          "iopub.status.idle": "2023-09-27T15:20:28.988087Z",
          "shell.execute_reply.started": "2023-09-27T15:20:28.974355Z",
          "shell.execute_reply": "2023-09-27T15:20:28.987364Z"
        },
        "trusted": true,
        "id": "F2y1TFT82wDt"
      },
      "execution_count": null,
      "outputs": []
    },
    {
      "cell_type": "code",
      "source": [
        "'''\n",
        "from sklearn.preprocessing import MinMaxScaler\n",
        "scl = MinMaxScaler()\n",
        "\n",
        "scl.fit(df11[['Age','milage','AML','HP', 'Liters', 'HPL']])\n",
        "\n",
        "df11[['Age','milage','AML','HP', 'Liters', 'HPL']] = pd.DataFrame(scl.transform(df11[['Age','milage','AML',\n",
        "                                                                                          'HP', 'Liters', 'HPL']]),\n",
        "                                                                  columns = ['Age','milage','AML','HP', 'Liters', 'HPL'])\n",
        "df11.head()\n",
        "'''"
      ],
      "metadata": {
        "execution": {
          "iopub.status.busy": "2023-09-27T15:20:52.451792Z",
          "iopub.execute_input": "2023-09-27T15:20:52.452246Z",
          "iopub.status.idle": "2023-09-27T15:20:52.460437Z",
          "shell.execute_reply.started": "2023-09-27T15:20:52.452191Z",
          "shell.execute_reply": "2023-09-27T15:20:52.459278Z"
        },
        "trusted": true,
        "id": "eYbwT0PW2wDv"
      },
      "execution_count": null,
      "outputs": []
    },
    {
      "cell_type": "code",
      "source": [
        "df11[['Age','milage','HP', 'Liters','price']].corr()"
      ],
      "metadata": {
        "execution": {
          "iopub.status.busy": "2023-09-27T15:21:05.360433Z",
          "iopub.execute_input": "2023-09-27T15:21:05.360842Z",
          "iopub.status.idle": "2023-09-27T15:21:05.375841Z",
          "shell.execute_reply.started": "2023-09-27T15:21:05.360809Z",
          "shell.execute_reply": "2023-09-27T15:21:05.374612Z"
        },
        "trusted": true,
        "id": "XAOWoV3i2wDv"
      },
      "execution_count": null,
      "outputs": []
    },
    {
      "cell_type": "code",
      "source": [
        "df12 = pd.get_dummies(df11).applymap(lambda x : float(x))\n",
        "df12.head()"
      ],
      "metadata": {
        "execution": {
          "iopub.status.busy": "2023-09-27T15:21:10.465518Z",
          "iopub.execute_input": "2023-09-27T15:21:10.46592Z",
          "iopub.status.idle": "2023-09-27T15:21:10.571103Z",
          "shell.execute_reply.started": "2023-09-27T15:21:10.465888Z",
          "shell.execute_reply": "2023-09-27T15:21:10.569871Z"
        },
        "trusted": true,
        "id": "IelrAbJv2wDv"
      },
      "execution_count": null,
      "outputs": []
    },
    {
      "cell_type": "code",
      "source": [
        "X = df12.drop('price' , axis = 'columns')\n",
        "Y = df12['price']"
      ],
      "metadata": {
        "execution": {
          "iopub.status.busy": "2023-09-27T15:21:14.011366Z",
          "iopub.execute_input": "2023-09-27T15:21:14.01177Z",
          "iopub.status.idle": "2023-09-27T15:21:14.018937Z",
          "shell.execute_reply.started": "2023-09-27T15:21:14.011739Z",
          "shell.execute_reply": "2023-09-27T15:21:14.017777Z"
        },
        "trusted": true,
        "id": "POyy4Km92wDv"
      },
      "execution_count": null,
      "outputs": []
    },
    {
      "cell_type": "code",
      "source": [
        "Yt = np.log(Y)"
      ],
      "metadata": {
        "execution": {
          "iopub.status.busy": "2023-09-27T15:21:16.177467Z",
          "iopub.execute_input": "2023-09-27T15:21:16.177985Z",
          "iopub.status.idle": "2023-09-27T15:21:16.183684Z",
          "shell.execute_reply.started": "2023-09-27T15:21:16.177939Z",
          "shell.execute_reply": "2023-09-27T15:21:16.182188Z"
        },
        "trusted": true,
        "id": "6f5kzqh-2wDv"
      },
      "execution_count": null,
      "outputs": []
    },
    {
      "cell_type": "code",
      "source": [
        "from sklearn.model_selection import train_test_split\n",
        "from sklearn.linear_model import LinearRegression\n",
        "\n",
        "xtrain,xtest,ytrain,ytest = train_test_split(X,Yt)\n",
        "model2 = LinearRegression()\n",
        "\n",
        "model2.fit(xtrain,ytrain)"
      ],
      "metadata": {
        "execution": {
          "iopub.status.busy": "2023-09-27T15:21:19.47229Z",
          "iopub.execute_input": "2023-09-27T15:21:19.473517Z",
          "iopub.status.idle": "2023-09-27T15:21:19.502436Z",
          "shell.execute_reply.started": "2023-09-27T15:21:19.473474Z",
          "shell.execute_reply": "2023-09-27T15:21:19.501064Z"
        },
        "trusted": true,
        "id": "k75d_gGs2wDv"
      },
      "execution_count": null,
      "outputs": []
    },
    {
      "cell_type": "code",
      "source": [
        "from sklearn.metrics import mean_absolute_error,r2_score\n",
        "\n",
        "ytrainP = model2.predict(xtrain)\n",
        "ytestP = model2.predict(xtest)\n",
        "\n",
        "maeTrain = mean_absolute_error(ytrain,ytrainP)\n",
        "maeTest = mean_absolute_error(ytest,ytestP)\n",
        "\n",
        "r2Train = r2_score(ytrain,ytrainP)\n",
        "r2Test = r2_score(ytest,ytestP)\n",
        "\n",
        "print({\"MAE_Train\" : maeTrain , \"MAE_Test\" : maeTest})\n",
        "print({\"R2_Train\" : r2Train , \"R2_Test\" : r2Test})"
      ],
      "metadata": {
        "execution": {
          "iopub.status.busy": "2023-09-27T15:21:23.872044Z",
          "iopub.execute_input": "2023-09-27T15:21:23.872439Z",
          "iopub.status.idle": "2023-09-27T15:21:23.890678Z",
          "shell.execute_reply.started": "2023-09-27T15:21:23.872398Z",
          "shell.execute_reply": "2023-09-27T15:21:23.888753Z"
        },
        "trusted": true,
        "id": "c-r-xDPG2wDv"
      },
      "execution_count": null,
      "outputs": []
    },
    {
      "cell_type": "code",
      "source": [
        "feature_coef = pd.DataFrame(model2.coef_.reshape(1,-1) , columns = xtrain.columns)\n",
        "feature_coef"
      ],
      "metadata": {
        "execution": {
          "iopub.status.busy": "2023-09-27T15:21:29.266193Z",
          "iopub.execute_input": "2023-09-27T15:21:29.26662Z",
          "iopub.status.idle": "2023-09-27T15:21:29.290487Z",
          "shell.execute_reply.started": "2023-09-27T15:21:29.266589Z",
          "shell.execute_reply": "2023-09-27T15:21:29.289119Z"
        },
        "trusted": true,
        "id": "Mfy9JJJO2wDw"
      },
      "execution_count": null,
      "outputs": []
    },
    {
      "cell_type": "code",
      "source": [
        "import matplotlib.pyplot as plt\n",
        "plt.figure(figsize = (16,8))\n",
        "plt.bar(height = feature_coef.loc[0] , x = feature_coef.columns)\n",
        "plt.xticks(rotation = 90)\n",
        "plt.show()"
      ],
      "metadata": {
        "execution": {
          "iopub.status.busy": "2023-09-27T15:22:04.903324Z",
          "iopub.execute_input": "2023-09-27T15:22:04.903757Z",
          "iopub.status.idle": "2023-09-27T15:22:05.64416Z",
          "shell.execute_reply.started": "2023-09-27T15:22:04.903718Z",
          "shell.execute_reply": "2023-09-27T15:22:05.643275Z"
        },
        "trusted": true,
        "id": "oQpczEq-2wDw"
      },
      "execution_count": null,
      "outputs": []
    },
    {
      "cell_type": "markdown",
      "source": [
        "**Save the model for deployment**"
      ],
      "metadata": {
        "id": "n90Mo-Kg2wDw"
      }
    },
    {
      "cell_type": "code",
      "source": [
        "import pickle"
      ],
      "metadata": {
        "execution": {
          "iopub.status.busy": "2023-09-27T15:22:53.421707Z",
          "iopub.execute_input": "2023-09-27T15:22:53.422134Z",
          "iopub.status.idle": "2023-09-27T15:22:53.427333Z",
          "shell.execute_reply.started": "2023-09-27T15:22:53.422096Z",
          "shell.execute_reply": "2023-09-27T15:22:53.42626Z"
        },
        "trusted": true,
        "id": "mgwO91iQ2wDw"
      },
      "execution_count": null,
      "outputs": []
    },
    {
      "cell_type": "code",
      "source": [
        "with open(\"carPprice.pkl\",\"wb\") as f:\n",
        "    f.write(pickle.dumps(model2))"
      ],
      "metadata": {
        "execution": {
          "iopub.status.busy": "2023-09-27T15:22:54.752247Z",
          "iopub.execute_input": "2023-09-27T15:22:54.752639Z",
          "iopub.status.idle": "2023-09-27T15:22:54.758514Z",
          "shell.execute_reply.started": "2023-09-27T15:22:54.752605Z",
          "shell.execute_reply": "2023-09-27T15:22:54.757115Z"
        },
        "trusted": true,
        "id": "YARxnbrM2wDw"
      },
      "execution_count": null,
      "outputs": []
    },
    {
      "cell_type": "code",
      "source": [
        "'''\n",
        "with open(\"carScale.pkl\",\"wb\") as f:\n",
        "    f.write(pickle.dumps(scl))\n",
        "'''"
      ],
      "metadata": {
        "execution": {
          "iopub.status.busy": "2023-09-27T15:23:09.246106Z",
          "iopub.execute_input": "2023-09-27T15:23:09.246514Z",
          "iopub.status.idle": "2023-09-27T15:23:09.253728Z",
          "shell.execute_reply.started": "2023-09-27T15:23:09.246482Z",
          "shell.execute_reply": "2023-09-27T15:23:09.252338Z"
        },
        "trusted": true,
        "id": "QWy43hw12wDw"
      },
      "execution_count": null,
      "outputs": []
    },
    {
      "cell_type": "code",
      "source": [
        "data_columns = {'columns' : list(xtrain.columns)}\n",
        "data_columns"
      ],
      "metadata": {
        "execution": {
          "iopub.status.busy": "2023-09-27T15:23:30.291715Z",
          "iopub.execute_input": "2023-09-27T15:23:30.292158Z",
          "iopub.status.idle": "2023-09-27T15:23:30.300521Z",
          "shell.execute_reply.started": "2023-09-27T15:23:30.292121Z",
          "shell.execute_reply": "2023-09-27T15:23:30.299442Z"
        },
        "trusted": true,
        "id": "ZCHAYyUv2wDw"
      },
      "execution_count": null,
      "outputs": []
    },
    {
      "cell_type": "code",
      "source": [
        "import json\n",
        "\n",
        "with open(\"data_columns.json\",\"w\") as f:\n",
        "    f.write(json.dumps(data_columns))"
      ],
      "metadata": {
        "execution": {
          "iopub.status.busy": "2023-09-27T15:23:35.781674Z",
          "iopub.execute_input": "2023-09-27T15:23:35.782048Z",
          "iopub.status.idle": "2023-09-27T15:23:35.788284Z",
          "shell.execute_reply.started": "2023-09-27T15:23:35.782018Z",
          "shell.execute_reply": "2023-09-27T15:23:35.786926Z"
        },
        "trusted": true,
        "id": "dkqmfkXC2wDw"
      },
      "execution_count": null,
      "outputs": []
    },
    {
      "cell_type": "markdown",
      "source": [
        "**Predictions**"
      ],
      "metadata": {
        "id": "hc3JCKG02wDw"
      }
    },
    {
      "cell_type": "code",
      "source": [
        "df9.head(2)"
      ],
      "metadata": {
        "execution": {
          "iopub.status.busy": "2023-09-27T15:23:39.561878Z",
          "iopub.execute_input": "2023-09-27T15:23:39.562263Z",
          "iopub.status.idle": "2023-09-27T15:23:39.577791Z",
          "shell.execute_reply.started": "2023-09-27T15:23:39.56223Z",
          "shell.execute_reply": "2023-09-27T15:23:39.576492Z"
        },
        "trusted": true,
        "id": "JV-vPvHC2wDx"
      },
      "execution_count": null,
      "outputs": []
    },
    {
      "cell_type": "code",
      "source": [
        "df11.head(2)"
      ],
      "metadata": {
        "execution": {
          "iopub.status.busy": "2023-09-27T15:23:40.866273Z",
          "iopub.execute_input": "2023-09-27T15:23:40.866653Z",
          "iopub.status.idle": "2023-09-27T15:23:40.883403Z",
          "shell.execute_reply.started": "2023-09-27T15:23:40.866622Z",
          "shell.execute_reply": "2023-09-27T15:23:40.882023Z"
        },
        "trusted": true,
        "id": "w14QaEYy2wDx"
      },
      "execution_count": null,
      "outputs": []
    },
    {
      "cell_type": "code",
      "source": [
        "brand = 'Hyundai'\n",
        "age = 2\n",
        "milage = 9835\n",
        "fueltype = 'Gasoline'\n",
        "hp = 320\n",
        "liters = 2\n",
        "transmission = 'Automatic'\n",
        "extcol = 'Black'\n",
        "intcol= 'Black'\n",
        "accident = 'None reported'"
      ],
      "metadata": {
        "execution": {
          "iopub.status.busy": "2023-09-27T15:23:44.217365Z",
          "iopub.execute_input": "2023-09-27T15:23:44.217739Z",
          "iopub.status.idle": "2023-09-27T15:23:44.223225Z",
          "shell.execute_reply.started": "2023-09-27T15:23:44.21771Z",
          "shell.execute_reply": "2023-09-27T15:23:44.222071Z"
        },
        "trusted": true,
        "id": "5mHBu99o2wDx"
      },
      "execution_count": null,
      "outputs": []
    },
    {
      "cell_type": "code",
      "source": [
        "input = np.zeros(len(xtrain.columns))\n",
        "input"
      ],
      "metadata": {
        "execution": {
          "iopub.status.busy": "2023-09-27T15:26:01.339825Z",
          "iopub.execute_input": "2023-09-27T15:26:01.340228Z",
          "iopub.status.idle": "2023-09-27T15:26:01.347833Z",
          "shell.execute_reply.started": "2023-09-27T15:26:01.340182Z",
          "shell.execute_reply": "2023-09-27T15:26:01.346524Z"
        },
        "trusted": true,
        "id": "Sc1IcPqA2wDx"
      },
      "execution_count": null,
      "outputs": []
    },
    {
      "cell_type": "code",
      "source": [
        "xtrain.columns"
      ],
      "metadata": {
        "execution": {
          "iopub.status.busy": "2023-09-27T15:26:01.82599Z",
          "iopub.execute_input": "2023-09-27T15:26:01.826395Z",
          "iopub.status.idle": "2023-09-27T15:26:01.834637Z",
          "shell.execute_reply.started": "2023-09-27T15:26:01.826361Z",
          "shell.execute_reply": "2023-09-27T15:26:01.833287Z"
        },
        "trusted": true,
        "id": "CPKGL0UL2wDx"
      },
      "execution_count": null,
      "outputs": []
    },
    {
      "cell_type": "code",
      "source": [
        "input[0] = age\n",
        "input[1] = milage\n",
        "input[2] = hp\n",
        "input[3] = liters\n",
        "\n",
        "\n",
        "#reshape=>convert into two dimension => (1,-1) => -1 will use higher dimension i.e. 6\n",
        "#input_scaled = scl.transform(input[0:6].reshape(1,-1))\n",
        "#input[0:6] = input_scaled\n",
        "\n",
        "\n",
        "print(input)"
      ],
      "metadata": {
        "execution": {
          "iopub.status.busy": "2023-09-27T15:26:02.978672Z",
          "iopub.execute_input": "2023-09-27T15:26:02.979076Z",
          "iopub.status.idle": "2023-09-27T15:26:02.986234Z",
          "shell.execute_reply.started": "2023-09-27T15:26:02.979041Z",
          "shell.execute_reply": "2023-09-27T15:26:02.985144Z"
        },
        "trusted": true,
        "id": "1gaamEom2wDx"
      },
      "execution_count": null,
      "outputs": []
    },
    {
      "cell_type": "code",
      "source": [
        "list(xtrain.columns).index('brand_'+brand)"
      ],
      "metadata": {
        "execution": {
          "iopub.status.busy": "2023-09-27T15:26:09.589968Z",
          "iopub.execute_input": "2023-09-27T15:26:09.590384Z",
          "iopub.status.idle": "2023-09-27T15:26:09.597391Z",
          "shell.execute_reply.started": "2023-09-27T15:26:09.590348Z",
          "shell.execute_reply": "2023-09-27T15:26:09.59609Z"
        },
        "trusted": true,
        "id": "EqsH9UEI2wDx"
      },
      "execution_count": null,
      "outputs": []
    },
    {
      "cell_type": "code",
      "source": [
        "input[list(xtrain.columns).index('brand_'+brand)] = 1\n",
        "input[list(xtrain.columns).index('fuel_type_'+fueltype)] = 1\n",
        "input[list(xtrain.columns).index('transmission_'+transmission)] = 1\n",
        "input[list(xtrain.columns).index('ext_col_'+extcol)] = 1\n",
        "input[list(xtrain.columns).index('int_col_'+intcol)] = 1\n",
        "input[list(xtrain.columns).index('accident_'+accident)] = 1\n",
        "\n",
        "print(input)"
      ],
      "metadata": {
        "execution": {
          "iopub.status.busy": "2023-09-27T15:26:11.093407Z",
          "iopub.execute_input": "2023-09-27T15:26:11.093801Z",
          "iopub.status.idle": "2023-09-27T15:26:11.102857Z",
          "shell.execute_reply.started": "2023-09-27T15:26:11.093769Z",
          "shell.execute_reply": "2023-09-27T15:26:11.101592Z"
        },
        "trusted": true,
        "id": "7OmOQETe2wDx"
      },
      "execution_count": null,
      "outputs": []
    },
    {
      "cell_type": "code",
      "source": [
        "input = pd.DataFrame(input.reshape(1,-1) , columns = xtrain.columns)\n",
        "print(model2.predict(input))      #log value of price predicted"
      ],
      "metadata": {
        "execution": {
          "iopub.status.busy": "2023-09-27T15:47:58.371682Z",
          "iopub.execute_input": "2023-09-27T15:47:58.372076Z",
          "iopub.status.idle": "2023-09-27T15:47:58.380881Z",
          "shell.execute_reply.started": "2023-09-27T15:47:58.372042Z",
          "shell.execute_reply": "2023-09-27T15:47:58.379843Z"
        },
        "trusted": true,
        "id": "nnXydoQ42wDx"
      },
      "execution_count": null,
      "outputs": []
    },
    {
      "cell_type": "code",
      "source": [
        "np.exp(model2.predict(input))"
      ],
      "metadata": {
        "execution": {
          "iopub.status.busy": "2023-09-27T15:48:04.149167Z",
          "iopub.execute_input": "2023-09-27T15:48:04.149599Z",
          "iopub.status.idle": "2023-09-27T15:48:04.159162Z",
          "shell.execute_reply.started": "2023-09-27T15:48:04.149565Z",
          "shell.execute_reply": "2023-09-27T15:48:04.157999Z"
        },
        "trusted": true,
        "id": "HQLV5A2f2wDy"
      },
      "execution_count": null,
      "outputs": []
    },
    {
      "cell_type": "code",
      "source": [
        "predicted_price = round(np.exp(model2.predict(input))[0])\n",
        "print(\"Predicted Price-\",predicted_price)  #take exp value of log value generated to get real predicted price"
      ],
      "metadata": {
        "execution": {
          "iopub.status.busy": "2023-09-27T15:48:09.773007Z",
          "iopub.execute_input": "2023-09-27T15:48:09.773387Z",
          "iopub.status.idle": "2023-09-27T15:48:09.78157Z",
          "shell.execute_reply.started": "2023-09-27T15:48:09.773355Z",
          "shell.execute_reply": "2023-09-27T15:48:09.780404Z"
        },
        "trusted": true,
        "id": "Htqi1kBQ2wDy"
      },
      "execution_count": null,
      "outputs": []
    },
    {
      "cell_type": "code",
      "source": [],
      "metadata": {
        "id": "AntOr5_n2wDy"
      },
      "execution_count": null,
      "outputs": []
    },
    {
      "cell_type": "code",
      "source": [],
      "metadata": {
        "id": "HSfS_Ql72wDy"
      },
      "execution_count": null,
      "outputs": []
    }
  ]
}